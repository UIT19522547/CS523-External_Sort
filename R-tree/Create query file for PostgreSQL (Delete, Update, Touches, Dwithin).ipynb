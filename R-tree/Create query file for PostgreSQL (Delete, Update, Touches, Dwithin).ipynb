{
  "nbformat": 4,
  "nbformat_minor": 0,
  "metadata": {
    "colab": {
      "name": "R-Tree.ipynb",
      "provenance": [],
      "collapsed_sections": []
    },
    "kernelspec": {
      "name": "python3",
      "display_name": "Python 3"
    },
    "language_info": {
      "name": "python"
    }
  },
  "cells": [
    {
      "cell_type": "code",
      "metadata": {
        "id": "eZBHLlTjn_fu"
      },
      "source": [
        "import shutil"
      ],
      "execution_count": null,
      "outputs": []
    },
    {
      "cell_type": "markdown",
      "metadata": {
        "id": "HD_fVFMsFjzi"
      },
      "source": [
        "# Hàm cho thao tác insert"
      ]
    },
    {
      "cell_type": "code",
      "metadata": {
        "colab": {
          "base_uri": "https://localhost:8080/"
        },
        "id": "ISJd-Xp812SX",
        "outputId": "74e44aaf-4de0-4882-80d0-b3831e0a362d"
      },
      "source": [
        "'''\n",
        "CREATE OR REPLACE FUNCTION InsertRandomRectangles (n INTEGER DEFAULT 100000)\n",
        "        RETURNS Geometry\n",
        "        AS $$\n",
        "DECLARE\n",
        "\tt timestamptz := clock_timestamp();\n",
        "        i INTEGER := 0;\n",
        "        Xmin INTEGER := 0;\n",
        "\tXmax INTEGER := 1;\n",
        "\tYmin INTEGER := 0;\n",
        "\tYmax INTEGER := 1;    \n",
        "BEGIN   \n",
        "        WHILE i < n LOOP\n",
        "                i = i + 1;\n",
        "                Xmin = random()*500000;\n",
        "                Xmax = random()*100+Xmin+1;\n",
        "                Ymin = random()*500000;\n",
        "                Ymax = random()*100+Ymin+1;\n",
        "                INSERT into test values (ST_MakeEnvelope(Xmin, Xmax, Ymin, Ymax));\n",
        "        END LOOP;\n",
        "\traise notice 'Time spent: %', clock_timestamp() - t;\n",
        "\tRETURN NULL;\n",
        "END; \n",
        "$$ LANGUAGE plpgsql;\n",
        "'''"
      ],
      "execution_count": null,
      "outputs": [
        {
          "output_type": "stream",
          "text": [
            "Overwriting main.cpp\n"
          ],
          "name": "stdout"
        }
      ]
    },
    {
      "cell_type": "code",
      "metadata": {
        "id": "W52xR__pjVwp"
      },
      "source": [
        "# Viết hàm trên vào file .txt hoặc sql, sau đó chạy file trong PostgreSQL 1 lần duy nhất để tạo hàm\n",
        "# Sử dụng lệnh sau để insert 1tr phần tử: SELECT InsertRandomRectangles(1000000);\n",
        "# Mỗi phần tử là 1 polygon, cụ thể là hình chữ nhật, được khởi tạo bởi 4 giá trị (Xmin, Xmax, Ymin, Ymax)\n",
        "# Tọa độ mỗi hình chữ nhật dao động từ 0-500000, chiều dài và rộng dao động từ 1-101"
      ],
      "execution_count": null,
      "outputs": []
    },
    {
      "cell_type": "code",
      "metadata": {
        "id": "6xEQRkc5jV3J"
      },
      "source": [
        "# https://postgis.net/docs/ST_MakeEnvelope.html\n",
        "# https://trac.osgeo.org/postgis/wiki/UserWikiRandomPoint"
      ],
      "execution_count": null,
      "outputs": []
    },
    {
      "cell_type": "markdown",
      "metadata": {
        "id": "754LzDU0FodM"
      },
      "source": [
        "# Tạo file cho thao tác delete\n",
        "Delete 1 polygon ngẫu nhiên trong table. Thực hiện đo 100 lần và lấy thời gian đo được chia 100."
      ]
    },
    {
      "cell_type": "code",
      "metadata": {
        "id": "n4gn37UDERnS",
        "colab": {
          "base_uri": "https://localhost:8080/"
        },
        "outputId": "4b9cc78f-5630-4bc3-ba31-b47b530b9ccc"
      },
      "source": [
        "%%writefile main.cpp\n",
        "#include <iostream>\n",
        "#include <fstream>\n",
        "#include <stdlib.h>\n",
        "#include <time.h>\n",
        "using namespace std;\n",
        "int main() {\n",
        "  fstream f;\n",
        "  srand (time(NULL));\n",
        "  f.open(\"delete.txt\",ios::out);\n",
        "  f<<\"do $$\\n\";\n",
        "  f<<\"declare t timestamptz := clock_timestamp();\\n\";\n",
        "  f<<\"begin\\n\";\n",
        "\n",
        "  for(long i=0; i<100; i++) {\n",
        "    int  Xmin = rand()%500000, Xmax = rand()%100 + Xmin + 1, Ymin = rand()%500000, Ymax = rand()%100 + Ymin + 1;\n",
        "    f<<\"DELETE FROM test WHERE ST_EQUALS(rectangle, ST_MakeEnvelope (\" << Xmin << \", \" << Xmax << \", \" << Ymin << \", \" << Ymax << \"));\\n\";    \n",
        "  }\n",
        "  f<<\"raise notice 'time spent=%', clock_timestamp() - t;\\n\";\n",
        "  f<<\"end\\n\";\n",
        "  f<<\"$$ language plpgsql\";\n",
        "  f.close();\n",
        "  return 0;\n",
        "}"
      ],
      "execution_count": null,
      "outputs": [
        {
          "output_type": "stream",
          "name": "stdout",
          "text": [
            "Overwriting main.cpp\n"
          ]
        }
      ]
    },
    {
      "cell_type": "code",
      "metadata": {
        "id": "8mtXJwgu-Z00"
      },
      "source": [
        "!g++ main.cpp -o main -std=c++11"
      ],
      "execution_count": null,
      "outputs": []
    },
    {
      "cell_type": "code",
      "metadata": {
        "id": "_9ZDOIKEp0G_"
      },
      "source": [
        "# Tạo 50 file để đo từ 100k-5tr phần tử (step=100k)\n",
        "!mkdir '/content/delete'\n",
        "for i in range (50):\n",
        "  !./main\n",
        "  shutil.move('/content/delete.txt','/content/delete/delete' + str(i+1) + '.txt')\n",
        "!zip -qr '/content/delete.zip' '/content/delete'"
      ],
      "execution_count": null,
      "outputs": []
    },
    {
      "cell_type": "markdown",
      "metadata": {
        "id": "e6Sk7o_FFsWm"
      },
      "source": [
        "# Tạo file cho thao tác update\n",
        "Update 1 polygon ngẫu nhiên thành 1 polygon ngẫu nhiên khác. Thực hiện đo 100 lần và lấy thời gian đo được chia 100."
      ]
    },
    {
      "cell_type": "code",
      "metadata": {
        "colab": {
          "base_uri": "https://localhost:8080/"
        },
        "id": "nwMndztP-cBA",
        "outputId": "5240390e-f702-4c88-9be9-5b2641f7794f"
      },
      "source": [
        "%%writefile main.cpp\n",
        "#include <iostream>\n",
        "#include <fstream>\n",
        "#include <stdlib.h>\n",
        "#include <time.h>\n",
        "using namespace std;\n",
        "int main() {\n",
        "  fstream f;\n",
        "  srand (time(NULL));\n",
        "  f.open(\"update.txt\",ios::out);\n",
        "  f<<\"do $$\\n\";\n",
        "  f<<\"declare t timestamptz := clock_timestamp();\\n\";\n",
        "  f<<\"begin\\n\";\n",
        "\n",
        "  for(long i=0; i<100; i++){\n",
        "    int  Xmin = rand()%500000, Xmax = rand()%100 + Xmin + 1, Ymin = rand()%500000, Ymax = rand()%100 + Ymin + 1;\n",
        "    int  X1min = rand()%500000, X1max = rand()%100 + X1min + 1, Y1min = rand()%500000, Y1max = rand()%100 + Y1min + 1;\n",
        "    f<<\"UPDATE test SET rectangle = ST_MakeEnvelope (\" << X1min << \", \" << X1max << \", \" << Y1min << \", \" << Y1max << \") \"\n",
        "    << \"WHERE ST_EQUALS(rectangle, ST_MakeEnvelope (\" << Xmin << \", \" << Xmax << \", \" << Ymin << \", \" << Ymax << \"));\\n\";    \n",
        "  }\n",
        "  f<<\"raise notice 'time spent=%', clock_timestamp() - t;\\n\";\n",
        "  f<<\"end\\n\";\n",
        "  f<<\"$$ language plpgsql\";\n",
        "  f.close();\n",
        "  return 0;\n",
        "}"
      ],
      "execution_count": null,
      "outputs": [
        {
          "output_type": "stream",
          "name": "stdout",
          "text": [
            "Overwriting main.cpp\n"
          ]
        }
      ]
    },
    {
      "cell_type": "code",
      "metadata": {
        "id": "JXc-pCew-cDX"
      },
      "source": [
        "!g++ main.cpp -o main -std=c++11\n"
      ],
      "execution_count": null,
      "outputs": []
    },
    {
      "cell_type": "code",
      "metadata": {
        "id": "8ZnZDyW5p8ln"
      },
      "source": [
        "# Tạo 50 file để đo từ 100k-5tr phần tử (step=100k)\n",
        "!mkdir '/content/update'\n",
        "for i in range (50):\n",
        "  !./main\n",
        "  shutil.move('/content/update.txt','/content/update/update' + str(i+1) + '.txt')\n",
        "!zip -qr '/content/update.zip' '/content/update'"
      ],
      "execution_count": null,
      "outputs": []
    },
    {
      "cell_type": "markdown",
      "metadata": {
        "id": "bnFEqNt9Fzuu"
      },
      "source": [
        "# Tạo file cho thao tác search với hàm ST_Touches\n",
        "Tìm các polygons trong table tiếp xúc với 1 polygon ngẫu nhiên cho trước (dùng hàm ST_Touches). Thực hiện đo 1 lần."
      ]
    },
    {
      "cell_type": "code",
      "metadata": {
        "colab": {
          "base_uri": "https://localhost:8080/"
        },
        "id": "McR3BhD3A1D5",
        "outputId": "c0e9aefd-5c32-4bed-d938-31bd40d55abe"
      },
      "source": [
        "%%writefile main.cpp\n",
        "#include <iostream>\n",
        "#include <fstream>\n",
        "#include <stdlib.h>\n",
        "#include <time.h>\n",
        "using namespace std;\n",
        "int main() {\n",
        "  fstream f;\n",
        "  f.open(\"touch.txt\",ios::out);\n",
        "  f<<\"do $$\\n\";\n",
        "  f<<\"declare t timestamptz := clock_timestamp();\\n\";\n",
        "  f<<\"begin\\n\";\n",
        "\n",
        "  int  Xmin = rand()%500000, Xmax = rand()%100 + Xmin + 1, Ymin = rand()%500000, Ymax = rand()%100 + Ymin + 1; \n",
        "  f<<\"PERFORM * FROM test WHERE ST_Touches(rectangle, ST_MakeEnvelope (\" << Xmin << \", \" << Xmax << \", \" << Ymin << \", \" << Ymax << \"));\\n\";\n",
        "\n",
        "  \n",
        "  f<<\"raise notice 'time spent=%', clock_timestamp() - t;\\n\";\n",
        "  f<<\"end\\n\";\n",
        "  f<<\"$$ language plpgsql\";\n",
        "  f.close();\n",
        "  return 0;\n",
        "}"
      ],
      "execution_count": null,
      "outputs": [
        {
          "output_type": "stream",
          "name": "stdout",
          "text": [
            "Overwriting main.cpp\n"
          ]
        }
      ]
    },
    {
      "cell_type": "code",
      "metadata": {
        "id": "WcZGeFyD-cIg"
      },
      "source": [
        "!g++ main.cpp -o main -std=c++11"
      ],
      "execution_count": null,
      "outputs": []
    },
    {
      "cell_type": "code",
      "metadata": {
        "id": "5jmfugFiJLMa"
      },
      "source": [
        "# Tạo 50 file để đo từ 100k-5tr phần tử (step=100k)\n",
        "!mkdir '/content/touch'\n",
        "for i in range (50):\n",
        "  !./main\n",
        "  shutil.move('/content/touch.txt','/content/touch/touch' + str(i+1) + '.txt')\n",
        "!zip -qr '/content/touch.zip' '/content/touch'"
      ],
      "execution_count": null,
      "outputs": []
    },
    {
      "cell_type": "markdown",
      "metadata": {
        "id": "PFeVx7Z8lprz"
      },
      "source": [
        "# Tạo file cho thao tác search với hàm ST_DWithin\n",
        "Tìm các polygons nằm trong phạm vi bán kính bằng 10 so với một polygon ngẫu nhiên cho trước (dùng hàm ST_DWithin). Thực hiện đo 1 lần."
      ]
    },
    {
      "cell_type": "code",
      "metadata": {
        "id": "WJyEKXvg-cGA",
        "colab": {
          "base_uri": "https://localhost:8080/"
        },
        "outputId": "b71fd25e-1c95-42c9-a801-9756ea7a4d0d"
      },
      "source": [
        "%%writefile main.cpp\n",
        "#include <iostream>\n",
        "#include <fstream>\n",
        "#include <stdlib.h>\n",
        "#include <time.h>\n",
        "using namespace std;\n",
        "int main() {\n",
        "  fstream f;\n",
        "  srand (time(NULL));\n",
        "  f.open(\"dwithin.txt\",ios::out);\n",
        "  f<<\"do $$\\n\";\n",
        "  f<<\"declare t timestamptz := clock_timestamp();\\n\";\n",
        "  f<<\"begin\\n\";\n",
        "\n",
        "  int  Xmin = rand()%500000, Xmax = rand()%100 + Xmin + 1, Ymin = rand()%500000, Ymax = rand()%100 + Ymin + 1; \n",
        "  f<<\"PERFORM * FROM test WHERE ST_DWithin(rectangle, ST_MakeEnvelope (\" << Xmin << \", \" << Xmax << \", \" << Ymin << \", \" << Ymax << \"), 10);\\n\";\n",
        "  \n",
        "  f<<\"raise notice 'time spent=%', clock_timestamp() - t;\\n\";\n",
        "  f<<\"end\\n\";\n",
        "  f<<\"$$ language plpgsql\";\n",
        "  f.close();\n",
        "  return 0;\n",
        "}"
      ],
      "execution_count": null,
      "outputs": [
        {
          "output_type": "stream",
          "name": "stdout",
          "text": [
            "Overwriting main.cpp\n"
          ]
        }
      ]
    },
    {
      "cell_type": "code",
      "metadata": {
        "id": "FZ05QSHBA1KC"
      },
      "source": [
        "!g++ main.cpp -o main -std=c++11"
      ],
      "execution_count": null,
      "outputs": []
    },
    {
      "cell_type": "code",
      "metadata": {
        "id": "kgS92XOQJMF5"
      },
      "source": [
        "# Tạo 50 file để đo từ 100k-5tr phần tử (step=100k)\n",
        "!mkdir '/content/dwithin'\n",
        "for i in range (50):\n",
        "  !./main\n",
        "  shutil.move('/content/dwithin.txt','/content/dwithin/dwithin' + str(i+1) + '.txt')\n",
        "!zip -qr '/content/dwithin.zip' '/content/dwithin'"
      ],
      "execution_count": null,
      "outputs": []
    },
    {
      "cell_type": "code",
      "metadata": {
        "id": "3QA-mALVzOh5"
      },
      "source": [
        "#!rm -r '/content/dwithin'"
      ],
      "execution_count": null,
      "outputs": []
    },
    {
      "cell_type": "code",
      "metadata": {
        "id": "U0Ij3Z6DH79b"
      },
      "source": [
        "# https://stackoverflow.com/questions/35706060/how-to-get-execution-time-in-postgres\n",
        "# https://gis.stackexchange.com/questions/58605/which-function-for-creating-a-point-in-postgis"
      ],
      "execution_count": null,
      "outputs": []
    },
    {
      "cell_type": "markdown",
      "metadata": {
        "id": "ICimPNtJoxAN"
      },
      "source": [
        "# Đo RAM và Disk của PostgreSQL"
      ]
    },
    {
      "cell_type": "code",
      "metadata": {
        "id": "GHKxMriQ-mnJ",
        "colab": {
          "base_uri": "https://localhost:8080/",
          "height": 206
        },
        "outputId": "eba9cc3c-7214-436d-ab18-40da559c0edc"
      },
      "source": [
        "resource=pd.read_csv(\"https://raw.githubusercontent.com/UIT-19521183/CS523.L21/main/R-Tree/RAM%20and%20Disk/RAM%20and%20Disk.csv\")\n",
        "resource.head(5)"
      ],
      "execution_count": null,
      "outputs": [
        {
          "output_type": "execute_result",
          "data": {
            "text/html": [
              "<div>\n",
              "<style scoped>\n",
              "    .dataframe tbody tr th:only-of-type {\n",
              "        vertical-align: middle;\n",
              "    }\n",
              "\n",
              "    .dataframe tbody tr th {\n",
              "        vertical-align: top;\n",
              "    }\n",
              "\n",
              "    .dataframe thead th {\n",
              "        text-align: right;\n",
              "    }\n",
              "</style>\n",
              "<table border=\"1\" class=\"dataframe\">\n",
              "  <thead>\n",
              "    <tr style=\"text-align: right;\">\n",
              "      <th></th>\n",
              "      <th>Size</th>\n",
              "      <th>RAM(KB)</th>\n",
              "      <th>Disk(KB)</th>\n",
              "    </tr>\n",
              "  </thead>\n",
              "  <tbody>\n",
              "    <tr>\n",
              "      <th>0</th>\n",
              "      <td>2000000</td>\n",
              "      <td>321600</td>\n",
              "      <td>6251180.105</td>\n",
              "    </tr>\n",
              "    <tr>\n",
              "      <th>1</th>\n",
              "      <td>2000000</td>\n",
              "      <td>321868</td>\n",
              "      <td>6251180.105</td>\n",
              "    </tr>\n",
              "    <tr>\n",
              "      <th>2</th>\n",
              "      <td>2000000</td>\n",
              "      <td>322060</td>\n",
              "      <td>6251180.105</td>\n",
              "    </tr>\n",
              "    <tr>\n",
              "      <th>3</th>\n",
              "      <td>2000000</td>\n",
              "      <td>322284</td>\n",
              "      <td>6251180.105</td>\n",
              "    </tr>\n",
              "    <tr>\n",
              "      <th>4</th>\n",
              "      <td>2000000</td>\n",
              "      <td>322532</td>\n",
              "      <td>6251180.105</td>\n",
              "    </tr>\n",
              "  </tbody>\n",
              "</table>\n",
              "</div>"
            ],
            "text/plain": [
              "      Size  RAM(KB)     Disk(KB)\n",
              "0  2000000   321600  6251180.105\n",
              "1  2000000   321868  6251180.105\n",
              "2  2000000   322060  6251180.105\n",
              "3  2000000   322284  6251180.105\n",
              "4  2000000   322532  6251180.105"
            ]
          },
          "metadata": {},
          "execution_count": 88
        }
      ]
    },
    {
      "cell_type": "code",
      "metadata": {
        "id": "ldLCFnAk-mpx",
        "colab": {
          "base_uri": "https://localhost:8080/",
          "height": 1000
        },
        "outputId": "3f6dd5e4-49aa-490f-f402-6e7547005d4c"
      },
      "source": [
        "resource=resource.groupby('Size', as_index = False).mean()\n",
        "resource"
      ],
      "execution_count": null,
      "outputs": [
        {
          "output_type": "execute_result",
          "data": {
            "text/html": [
              "<div>\n",
              "<style scoped>\n",
              "    .dataframe tbody tr th:only-of-type {\n",
              "        vertical-align: middle;\n",
              "    }\n",
              "\n",
              "    .dataframe tbody tr th {\n",
              "        vertical-align: top;\n",
              "    }\n",
              "\n",
              "    .dataframe thead th {\n",
              "        text-align: right;\n",
              "    }\n",
              "</style>\n",
              "<table border=\"1\" class=\"dataframe\">\n",
              "  <thead>\n",
              "    <tr style=\"text-align: right;\">\n",
              "      <th></th>\n",
              "      <th>Size</th>\n",
              "      <th>RAM(KB)</th>\n",
              "      <th>Disk(KB)</th>\n",
              "    </tr>\n",
              "  </thead>\n",
              "  <tbody>\n",
              "    <tr>\n",
              "      <th>0</th>\n",
              "      <td>2000000</td>\n",
              "      <td>324882.000000</td>\n",
              "      <td>6.251180e+06</td>\n",
              "    </tr>\n",
              "    <tr>\n",
              "      <th>1</th>\n",
              "      <td>4000000</td>\n",
              "      <td>307058.352941</td>\n",
              "      <td>6.453844e+06</td>\n",
              "    </tr>\n",
              "    <tr>\n",
              "      <th>2</th>\n",
              "      <td>6000000</td>\n",
              "      <td>310616.761905</td>\n",
              "      <td>6.662283e+06</td>\n",
              "    </tr>\n",
              "    <tr>\n",
              "      <th>3</th>\n",
              "      <td>8000000</td>\n",
              "      <td>298848.000000</td>\n",
              "      <td>6.711508e+06</td>\n",
              "    </tr>\n",
              "    <tr>\n",
              "      <th>4</th>\n",
              "      <td>10000000</td>\n",
              "      <td>369534.720000</td>\n",
              "      <td>6.915780e+06</td>\n",
              "    </tr>\n",
              "    <tr>\n",
              "      <th>5</th>\n",
              "      <td>12000000</td>\n",
              "      <td>394900.320000</td>\n",
              "      <td>7.116564e+06</td>\n",
              "    </tr>\n",
              "    <tr>\n",
              "      <th>6</th>\n",
              "      <td>14000000</td>\n",
              "      <td>342039.142857</td>\n",
              "      <td>7.623429e+06</td>\n",
              "    </tr>\n",
              "    <tr>\n",
              "      <th>7</th>\n",
              "      <td>16000000</td>\n",
              "      <td>355385.333333</td>\n",
              "      <td>7.825060e+06</td>\n",
              "    </tr>\n",
              "    <tr>\n",
              "      <th>8</th>\n",
              "      <td>18000000</td>\n",
              "      <td>355817.411765</td>\n",
              "      <td>8.024093e+06</td>\n",
              "    </tr>\n",
              "    <tr>\n",
              "      <th>9</th>\n",
              "      <td>20000000</td>\n",
              "      <td>374162.000000</td>\n",
              "      <td>8.222133e+06</td>\n",
              "    </tr>\n",
              "    <tr>\n",
              "      <th>10</th>\n",
              "      <td>22000000</td>\n",
              "      <td>372093.714286</td>\n",
              "      <td>8.419333e+06</td>\n",
              "    </tr>\n",
              "    <tr>\n",
              "      <th>11</th>\n",
              "      <td>24000000</td>\n",
              "      <td>395207.294118</td>\n",
              "      <td>8.617341e+06</td>\n",
              "    </tr>\n",
              "    <tr>\n",
              "      <th>12</th>\n",
              "      <td>26000000</td>\n",
              "      <td>379272.444444</td>\n",
              "      <td>8.812781e+06</td>\n",
              "    </tr>\n",
              "    <tr>\n",
              "      <th>13</th>\n",
              "      <td>28000000</td>\n",
              "      <td>413360.941176</td>\n",
              "      <td>9.007847e+06</td>\n",
              "    </tr>\n",
              "    <tr>\n",
              "      <th>14</th>\n",
              "      <td>30000000</td>\n",
              "      <td>373136.470588</td>\n",
              "      <td>9.203101e+06</td>\n",
              "    </tr>\n",
              "    <tr>\n",
              "      <th>15</th>\n",
              "      <td>32000000</td>\n",
              "      <td>341314.250000</td>\n",
              "      <td>9.393933e+06</td>\n",
              "    </tr>\n",
              "    <tr>\n",
              "      <th>16</th>\n",
              "      <td>34000000</td>\n",
              "      <td>259937.333333</td>\n",
              "      <td>9.828993e+06</td>\n",
              "    </tr>\n",
              "    <tr>\n",
              "      <th>17</th>\n",
              "      <td>36000000</td>\n",
              "      <td>352366.000000</td>\n",
              "      <td>1.002716e+07</td>\n",
              "    </tr>\n",
              "    <tr>\n",
              "      <th>18</th>\n",
              "      <td>38000000</td>\n",
              "      <td>295123.272727</td>\n",
              "      <td>1.022470e+07</td>\n",
              "    </tr>\n",
              "    <tr>\n",
              "      <th>19</th>\n",
              "      <td>40000000</td>\n",
              "      <td>228890.666667</td>\n",
              "      <td>1.042066e+07</td>\n",
              "    </tr>\n",
              "    <tr>\n",
              "      <th>20</th>\n",
              "      <td>42000000</td>\n",
              "      <td>321411.666667</td>\n",
              "      <td>1.061562e+07</td>\n",
              "    </tr>\n",
              "    <tr>\n",
              "      <th>21</th>\n",
              "      <td>44000000</td>\n",
              "      <td>416436.705882</td>\n",
              "      <td>1.081294e+07</td>\n",
              "    </tr>\n",
              "    <tr>\n",
              "      <th>22</th>\n",
              "      <td>46000000</td>\n",
              "      <td>415388.000000</td>\n",
              "      <td>1.101015e+07</td>\n",
              "    </tr>\n",
              "    <tr>\n",
              "      <th>23</th>\n",
              "      <td>48000000</td>\n",
              "      <td>386266.588235</td>\n",
              "      <td>1.120766e+07</td>\n",
              "    </tr>\n",
              "    <tr>\n",
              "      <th>24</th>\n",
              "      <td>50000000</td>\n",
              "      <td>284512.266667</td>\n",
              "      <td>1.140351e+07</td>\n",
              "    </tr>\n",
              "    <tr>\n",
              "      <th>25</th>\n",
              "      <td>52000000</td>\n",
              "      <td>332009.230769</td>\n",
              "      <td>1.159835e+07</td>\n",
              "    </tr>\n",
              "    <tr>\n",
              "      <th>26</th>\n",
              "      <td>54000000</td>\n",
              "      <td>289984.941176</td>\n",
              "      <td>1.179258e+07</td>\n",
              "    </tr>\n",
              "    <tr>\n",
              "      <th>27</th>\n",
              "      <td>56000000</td>\n",
              "      <td>286651.555556</td>\n",
              "      <td>1.198884e+07</td>\n",
              "    </tr>\n",
              "    <tr>\n",
              "      <th>28</th>\n",
              "      <td>58000000</td>\n",
              "      <td>208532.000000</td>\n",
              "      <td>1.218518e+07</td>\n",
              "    </tr>\n",
              "    <tr>\n",
              "      <th>29</th>\n",
              "      <td>60000000</td>\n",
              "      <td>265824.571429</td>\n",
              "      <td>1.236550e+07</td>\n",
              "    </tr>\n",
              "    <tr>\n",
              "      <th>30</th>\n",
              "      <td>62000000</td>\n",
              "      <td>245045.263158</td>\n",
              "      <td>1.259511e+07</td>\n",
              "    </tr>\n",
              "    <tr>\n",
              "      <th>31</th>\n",
              "      <td>64000000</td>\n",
              "      <td>266668.000000</td>\n",
              "      <td>1.277225e+07</td>\n",
              "    </tr>\n",
              "    <tr>\n",
              "      <th>32</th>\n",
              "      <td>66000000</td>\n",
              "      <td>375609.200000</td>\n",
              "      <td>1.296936e+07</td>\n",
              "    </tr>\n",
              "    <tr>\n",
              "      <th>33</th>\n",
              "      <td>68000000</td>\n",
              "      <td>240769.142857</td>\n",
              "      <td>1.316669e+07</td>\n",
              "    </tr>\n",
              "    <tr>\n",
              "      <th>34</th>\n",
              "      <td>70000000</td>\n",
              "      <td>303571.818182</td>\n",
              "      <td>1.336381e+07</td>\n",
              "    </tr>\n",
              "    <tr>\n",
              "      <th>35</th>\n",
              "      <td>72000000</td>\n",
              "      <td>333689.454545</td>\n",
              "      <td>1.356209e+07</td>\n",
              "    </tr>\n",
              "    <tr>\n",
              "      <th>36</th>\n",
              "      <td>74000000</td>\n",
              "      <td>222053.043478</td>\n",
              "      <td>1.385959e+07</td>\n",
              "    </tr>\n",
              "    <tr>\n",
              "      <th>37</th>\n",
              "      <td>76000000</td>\n",
              "      <td>228320.000000</td>\n",
              "      <td>1.461492e+07</td>\n",
              "    </tr>\n",
              "    <tr>\n",
              "      <th>38</th>\n",
              "      <td>78000000</td>\n",
              "      <td>254492.545455</td>\n",
              "      <td>1.481236e+07</td>\n",
              "    </tr>\n",
              "    <tr>\n",
              "      <th>39</th>\n",
              "      <td>80000000</td>\n",
              "      <td>310271.200000</td>\n",
              "      <td>1.501140e+07</td>\n",
              "    </tr>\n",
              "    <tr>\n",
              "      <th>40</th>\n",
              "      <td>82000000</td>\n",
              "      <td>361564.166667</td>\n",
              "      <td>1.520919e+07</td>\n",
              "    </tr>\n",
              "    <tr>\n",
              "      <th>41</th>\n",
              "      <td>84000000</td>\n",
              "      <td>238824.727273</td>\n",
              "      <td>1.540441e+07</td>\n",
              "    </tr>\n",
              "    <tr>\n",
              "      <th>42</th>\n",
              "      <td>86000000</td>\n",
              "      <td>292199.166667</td>\n",
              "      <td>1.560055e+07</td>\n",
              "    </tr>\n",
              "    <tr>\n",
              "      <th>43</th>\n",
              "      <td>88000000</td>\n",
              "      <td>275449.833333</td>\n",
              "      <td>1.579849e+07</td>\n",
              "    </tr>\n",
              "    <tr>\n",
              "      <th>44</th>\n",
              "      <td>90000000</td>\n",
              "      <td>385970.074074</td>\n",
              "      <td>1.599509e+07</td>\n",
              "    </tr>\n",
              "    <tr>\n",
              "      <th>45</th>\n",
              "      <td>92000000</td>\n",
              "      <td>233655.130435</td>\n",
              "      <td>1.612446e+07</td>\n",
              "    </tr>\n",
              "    <tr>\n",
              "      <th>46</th>\n",
              "      <td>94000000</td>\n",
              "      <td>255885.833333</td>\n",
              "      <td>1.620087e+07</td>\n",
              "    </tr>\n",
              "    <tr>\n",
              "      <th>47</th>\n",
              "      <td>96000000</td>\n",
              "      <td>293067.000000</td>\n",
              "      <td>1.639794e+07</td>\n",
              "    </tr>\n",
              "    <tr>\n",
              "      <th>48</th>\n",
              "      <td>98000000</td>\n",
              "      <td>388228.173913</td>\n",
              "      <td>1.659468e+07</td>\n",
              "    </tr>\n",
              "    <tr>\n",
              "      <th>49</th>\n",
              "      <td>100000000</td>\n",
              "      <td>352849.739130</td>\n",
              "      <td>1.679202e+07</td>\n",
              "    </tr>\n",
              "  </tbody>\n",
              "</table>\n",
              "</div>"
            ],
            "text/plain": [
              "         Size        RAM(KB)      Disk(KB)\n",
              "0     2000000  324882.000000  6.251180e+06\n",
              "1     4000000  307058.352941  6.453844e+06\n",
              "2     6000000  310616.761905  6.662283e+06\n",
              "3     8000000  298848.000000  6.711508e+06\n",
              "4    10000000  369534.720000  6.915780e+06\n",
              "5    12000000  394900.320000  7.116564e+06\n",
              "6    14000000  342039.142857  7.623429e+06\n",
              "7    16000000  355385.333333  7.825060e+06\n",
              "8    18000000  355817.411765  8.024093e+06\n",
              "9    20000000  374162.000000  8.222133e+06\n",
              "10   22000000  372093.714286  8.419333e+06\n",
              "11   24000000  395207.294118  8.617341e+06\n",
              "12   26000000  379272.444444  8.812781e+06\n",
              "13   28000000  413360.941176  9.007847e+06\n",
              "14   30000000  373136.470588  9.203101e+06\n",
              "15   32000000  341314.250000  9.393933e+06\n",
              "16   34000000  259937.333333  9.828993e+06\n",
              "17   36000000  352366.000000  1.002716e+07\n",
              "18   38000000  295123.272727  1.022470e+07\n",
              "19   40000000  228890.666667  1.042066e+07\n",
              "20   42000000  321411.666667  1.061562e+07\n",
              "21   44000000  416436.705882  1.081294e+07\n",
              "22   46000000  415388.000000  1.101015e+07\n",
              "23   48000000  386266.588235  1.120766e+07\n",
              "24   50000000  284512.266667  1.140351e+07\n",
              "25   52000000  332009.230769  1.159835e+07\n",
              "26   54000000  289984.941176  1.179258e+07\n",
              "27   56000000  286651.555556  1.198884e+07\n",
              "28   58000000  208532.000000  1.218518e+07\n",
              "29   60000000  265824.571429  1.236550e+07\n",
              "30   62000000  245045.263158  1.259511e+07\n",
              "31   64000000  266668.000000  1.277225e+07\n",
              "32   66000000  375609.200000  1.296936e+07\n",
              "33   68000000  240769.142857  1.316669e+07\n",
              "34   70000000  303571.818182  1.336381e+07\n",
              "35   72000000  333689.454545  1.356209e+07\n",
              "36   74000000  222053.043478  1.385959e+07\n",
              "37   76000000  228320.000000  1.461492e+07\n",
              "38   78000000  254492.545455  1.481236e+07\n",
              "39   80000000  310271.200000  1.501140e+07\n",
              "40   82000000  361564.166667  1.520919e+07\n",
              "41   84000000  238824.727273  1.540441e+07\n",
              "42   86000000  292199.166667  1.560055e+07\n",
              "43   88000000  275449.833333  1.579849e+07\n",
              "44   90000000  385970.074074  1.599509e+07\n",
              "45   92000000  233655.130435  1.612446e+07\n",
              "46   94000000  255885.833333  1.620087e+07\n",
              "47   96000000  293067.000000  1.639794e+07\n",
              "48   98000000  388228.173913  1.659468e+07\n",
              "49  100000000  352849.739130  1.679202e+07"
            ]
          },
          "metadata": {},
          "execution_count": 89
        }
      ]
    },
    {
      "cell_type": "code",
      "metadata": {
        "id": "bs372Sobxz9Q"
      },
      "source": [
        "size=np.array(resource['Size']).reshape(-1,1)\n",
        "ram=np.array(resource['RAM(KB)'])\n",
        "disk=np.array(resource['Disk(KB)'])"
      ],
      "execution_count": null,
      "outputs": []
    },
    {
      "cell_type": "code",
      "metadata": {
        "id": "vnhqxqGU-mtX",
        "colab": {
          "base_uri": "https://localhost:8080/",
          "height": 313
        },
        "outputId": "b3a760b7-09d3-48d4-f420-089d00867302"
      },
      "source": [
        "fig = plt.figure()\n",
        "ax = plt.axes()\n",
        "ax.set_title('RAM used by PostgreSQL in kilobytes', size=12)\n",
        "ax.set_xlabel('Size')\n",
        "ax.set_ylabel('RAM (KB)')\n",
        "plt.scatter(size, ram, c='r', s=15)"
      ],
      "execution_count": null,
      "outputs": [
        {
          "output_type": "execute_result",
          "data": {
            "text/plain": [
              "<matplotlib.collections.PathCollection at 0x7f7d3668c310>"
            ]
          },
          "metadata": {},
          "execution_count": 91
        },
        {
          "output_type": "display_data",
          "data": {
            "image/png": "[encoded data removed]",
            "text/plain": [
              "<Figure size 432x288 with 1 Axes>"
            ]
          },
          "metadata": {
            "needs_background": "light"
          }
        }
      ]
    },
    {
      "cell_type": "code",
      "metadata": {
        "colab": {
          "base_uri": "https://localhost:8080/",
          "height": 313
        },
        "id": "a6_wHoPPzYda",
        "outputId": "11067943-1a23-444d-ab9e-bdc5427cfd92"
      },
      "source": [
        "fig = plt.figure()\n",
        "ax = plt.axes()\n",
        "ax.set_title('RAM used by PostgreSQL in kilobytes', size=12)\n",
        "ax.set_xlabel('Size')\n",
        "ax.set_ylabel('RAM (KB)')\n",
        "ax.set_ylim([0,8000000]) # từ 0 đến 8GB theo KB\n",
        "plt.scatter(size, ram, c='r', s=15)"
      ],
      "execution_count": null,
      "outputs": [
        {
          "output_type": "execute_result",
          "data": {
            "text/plain": [
              "<matplotlib.collections.PathCollection at 0x7f7d365f5350>"
            ]
          },
          "metadata": {},
          "execution_count": 92
        },
        {
          "output_type": "display_data",
          "data": {
            "image/png": "[encoded data removed]",
            "text/plain": [
              "<Figure size 432x288 with 1 Axes>"
            ]
          },
          "metadata": {
            "needs_background": "light"
          }
        }
      ]
    },
    {
      "cell_type": "code",
      "metadata": {
        "id": "fhdMlZlh-mvt",
        "colab": {
          "base_uri": "https://localhost:8080/",
          "height": 313
        },
        "outputId": "8954d853-123b-4c7e-8df0-d70e50ada4aa"
      },
      "source": [
        "fig = plt.figure()\n",
        "ax = plt.axes()\n",
        "ax.set_title('Disk space occupied in kilobytes', size=12)\n",
        "ax.set_xlabel('Size')\n",
        "ax.set_ylabel('Disk(KB)')\n",
        "plt.scatter(size, disk, c='r', s=15)"
      ],
      "execution_count": null,
      "outputs": [
        {
          "output_type": "execute_result",
          "data": {
            "text/plain": [
              "<matplotlib.collections.PathCollection at 0x7f7d36597410>"
            ]
          },
          "metadata": {},
          "execution_count": 94
        },
        {
          "output_type": "display_data",
          "data": {
            "image/png": "[encoded data removed]",
            "text/plain": [
              "<Figure size 432x288 with 1 Axes>"
            ]
          },
          "metadata": {
            "needs_background": "light"
          }
        }
      ]
    },
    {
      "cell_type": "code",
      "metadata": {
        "id": "ljiev2vqoue5"
      },
      "source": [
        "'''\n",
        "while(Get-Process postgres -ErrorAction SilentlyContinue) {\n",
        "     $ram = (Get-Process postgres| Measure-Object WorkingSet -sum).sum / 1KB\n",
        "     $disk = (Get-ChildItem -force \"C:\\Program Files\\PostgreSQL\\13\\data\" -Recurse -ErrorAction SilentlyContinue| measure Length -sum).sum / 1KB\n",
        "     Write-Output \"$ram, $disk\" >> \"C:\\Users\\Thuy An\\Desktop\\ram.txt\"\n",
        "     Start-Sleep -s 0.5\n",
        "}\n",
        "'''\n",
        "# Chạy lệnh trên bằng Windows PowerShell để đo ram và disk"
      ],
      "execution_count": null,
      "outputs": []
    },
    {
      "cell_type": "code",
      "metadata": {
        "id": "dDxqCCcXoPXo"
      },
      "source": [
        "# https://docs.microsoft.com/en-us/powershell/module/microsoft.powershell.management/get-process?view=powershell-7.1\n",
        "# https://docs.microsoft.com/en-us/dotnet/api/system.diagnostics.process.workingset?view=net-5.0\n",
        "# https://docs.microsoft.com/en-us/powershell/module/microsoft.powershell.management/get-childitem?view=powershell-7.1&viewFallbackFrom=powershell-6"
      ],
      "execution_count": null,
      "outputs": []
    }
  ]
}