{
  "nbformat": 4,
  "nbformat_minor": 0,
  "metadata": {
    "colab": {
      "name": "R-Tree Complexity.ipynb",
      "provenance": [],
      "collapsed_sections": [
        "Nc06ZHukzzPS",
        "jbolyjJm4VxD",
        "Gy9ca2jd7TUT",
        "0t4DIfNJ9Kbq"
      ]
    },
    "kernelspec": {
      "name": "python3",
      "display_name": "Python 3"
    },
    "language_info": {
      "name": "python"
    }
  },
  "cells": [
    {
      "cell_type": "code",
      "metadata": {
        "id": "9I6owVpsmoGb"
      },
      "source": [
        "import pandas as pd\n",
        "import numpy as np\n",
        "import math\n",
        "from sklearn.linear_model import LinearRegression\n",
        "import matplotlib.pyplot as plt\n",
        "%matplotlib inline"
      ],
      "execution_count": 87,
      "outputs": []
    },
    {
      "cell_type": "markdown",
      "metadata": {
        "id": "Nc06ZHukzzPS"
      },
      "source": [
        "# Thao tác delete\n",
        "Giới hạn data: 100K - 5M (step = 100k)\n",
        "<br>\n",
        "Tổng số record thu được: 50\n",
        "<br>\n",
        "Delete 1 polygon ngẫu nhiên trong table. Thực hiện đo 100 lần và lấy thời gian đo được chia 100."
      ]
    },
    {
      "cell_type": "code",
      "metadata": {
        "id": "hU5AajwynCrA",
        "colab": {
          "base_uri": "https://localhost:8080/",
          "height": 206
        },
        "outputId": "65cbb447-96bb-4f05-d966-c30e229b7a78"
      },
      "source": [
        "delete_time=pd.read_csv(\"https://raw.githubusercontent.com/UIT-19521183/CS523.L21/main/R-Tree/Time/Delete_Polygon.csv\")\n",
        "delete_time.head(5)"
      ],
      "execution_count": null,
      "outputs": [
        {
          "output_type": "execute_result",
          "data": {
            "text/html": [
              "<div>\n",
              "<style scoped>\n",
              "    .dataframe tbody tr th:only-of-type {\n",
              "        vertical-align: middle;\n",
              "    }\n",
              "\n",
              "    .dataframe tbody tr th {\n",
              "        vertical-align: top;\n",
              "    }\n",
              "\n",
              "    .dataframe thead th {\n",
              "        text-align: right;\n",
              "    }\n",
              "</style>\n",
              "<table border=\"1\" class=\"dataframe\">\n",
              "  <thead>\n",
              "    <tr style=\"text-align: right;\">\n",
              "      <th></th>\n",
              "      <th>size</th>\n",
              "      <th>time(s)</th>\n",
              "    </tr>\n",
              "  </thead>\n",
              "  <tbody>\n",
              "    <tr>\n",
              "      <th>0</th>\n",
              "      <td>100000</td>\n",
              "      <td>0.003491</td>\n",
              "    </tr>\n",
              "    <tr>\n",
              "      <th>1</th>\n",
              "      <td>200000</td>\n",
              "      <td>0.005272</td>\n",
              "    </tr>\n",
              "    <tr>\n",
              "      <th>2</th>\n",
              "      <td>300000</td>\n",
              "      <td>0.007979</td>\n",
              "    </tr>\n",
              "    <tr>\n",
              "      <th>3</th>\n",
              "      <td>400000</td>\n",
              "      <td>0.010590</td>\n",
              "    </tr>\n",
              "    <tr>\n",
              "      <th>4</th>\n",
              "      <td>500000</td>\n",
              "      <td>0.013091</td>\n",
              "    </tr>\n",
              "  </tbody>\n",
              "</table>\n",
              "</div>"
            ],
            "text/plain": [
              "     size   time(s)\n",
              "0  100000  0.003491\n",
              "1  200000  0.005272\n",
              "2  300000  0.007979\n",
              "3  400000  0.010590\n",
              "4  500000  0.013091"
            ]
          },
          "metadata": {},
          "execution_count": 52
        }
      ]
    },
    {
      "cell_type": "code",
      "metadata": {
        "id": "zpv3A6K_xak3"
      },
      "source": [
        "X=np.array(delete_time['size']).reshape(-1,1)\n",
        "y=np.array(delete_time['time(s)'])"
      ],
      "execution_count": null,
      "outputs": []
    },
    {
      "cell_type": "code",
      "metadata": {
        "colab": {
          "base_uri": "https://localhost:8080/",
          "height": 297
        },
        "id": "uXkkgFQIx0n4",
        "outputId": "638f843e-3a27-4f23-a6d6-1bef310f2b01"
      },
      "source": [
        "fig = plt.figure()\n",
        "ax = plt.axes()\n",
        "ax.set_xlabel('Size')\n",
        "ax.set_ylabel('Time(s)')\n",
        "plt.plot(X, y, 'r')"
      ],
      "execution_count": null,
      "outputs": [
        {
          "output_type": "execute_result",
          "data": {
            "text/plain": [
              "[<matplotlib.lines.Line2D at 0x7f7d3686c7d0>]"
            ]
          },
          "metadata": {},
          "execution_count": 54
        },
        {
          "output_type": "display_data",
          "data": {
            "image/png": "[encoded data removed]",
            "text/plain": [
              "<Figure size 432x288 with 1 Axes>"
            ]
          },
          "metadata": {
            "needs_background": "light"
          }
        }
      ]
    },
    {
      "cell_type": "code",
      "metadata": {
        "colab": {
          "base_uri": "https://localhost:8080/"
        },
        "id": "1r_sQFfey2w_",
        "outputId": "4fa9313d-4867-4367-fec0-a61af15c695e"
      },
      "source": [
        "# O(log(n))\n",
        "X1=[]\n",
        "for i in X:\n",
        "  X1.append([math.log2(i[0])])\n",
        "reg1=LinearRegression().fit(X1,y)\n",
        "print(reg1.coef_)"
      ],
      "execution_count": null,
      "outputs": [
        {
          "output_type": "stream",
          "name": "stdout",
          "text": [
            "[0.03242037]\n"
          ]
        }
      ]
    },
    {
      "cell_type": "code",
      "metadata": {
        "colab": {
          "base_uri": "https://localhost:8080/"
        },
        "id": "TDczlGRSzWf7",
        "outputId": "a01f72ee-402a-4b56-e0d8-c193d166fbcb"
      },
      "source": [
        "# O(sqrt(n))\n",
        "X2=[]\n",
        "for i in X:\n",
        "  X2.append([math.sqrt(i[0])])\n",
        "reg2=LinearRegression().fit(X2,y)\n",
        "print(reg2.coef_)"
      ],
      "execution_count": null,
      "outputs": [
        {
          "output_type": "stream",
          "name": "stdout",
          "text": [
            "[8.7683851e-05]\n"
          ]
        }
      ]
    },
    {
      "cell_type": "code",
      "metadata": {
        "colab": {
          "base_uri": "https://localhost:8080/"
        },
        "id": "v4f8LVbkynUM",
        "outputId": "28514f2d-e971-45a9-96b0-9cd654f71da5"
      },
      "source": [
        "# O(n)\n",
        "reg=LinearRegression().fit(X,y)\n",
        "print(reg.coef_)"
      ],
      "execution_count": null,
      "outputs": [
        {
          "output_type": "stream",
          "name": "stdout",
          "text": [
            "[3.2165918e-08]\n"
          ]
        }
      ]
    },
    {
      "cell_type": "code",
      "metadata": {
        "colab": {
          "base_uri": "https://localhost:8080/"
        },
        "id": "Kxl6nnSrzhVr",
        "outputId": "20c4c04a-a24c-4142-9cdd-7a010a202a72"
      },
      "source": [
        "# O(n*log(n))\n",
        "X3=[]\n",
        "for i in X:\n",
        "  X3.append([i[0]*math.log2(i[0])])\n",
        "reg3=LinearRegression().fit(X3,y)\n",
        "print(reg3.coef_)"
      ],
      "execution_count": null,
      "outputs": [
        {
          "output_type": "stream",
          "name": "stdout",
          "text": [
            "[1.4287273e-09]\n"
          ]
        }
      ]
    },
    {
      "cell_type": "code",
      "metadata": {
        "colab": {
          "base_uri": "https://localhost:8080/"
        },
        "id": "6lwGOdygx7cY",
        "outputId": "1de0259c-05ad-4627-a5a6-1813f1fd9820"
      },
      "source": [
        "# O(n^2)\n",
        "X4=[]\n",
        "for i in X:\n",
        "  X4.append([i[0]*i[0]])\n",
        "reg4=LinearRegression().fit(X4,y)\n",
        "print(reg4.coef_)"
      ],
      "execution_count": null,
      "outputs": [
        {
          "output_type": "stream",
          "name": "stdout",
          "text": [
            "[6.04202944e-15]\n"
          ]
        }
      ]
    },
    {
      "cell_type": "markdown",
      "metadata": {
        "id": "jbolyjJm4VxD"
      },
      "source": [
        "# Thao tác update\n",
        "Giới hạn data: 100K - 5M (step = 100k)\n",
        "<br>\n",
        "Tổng số record thu được: 50\n",
        "<br>\n",
        "Update 1 polygon ngẫu nhiên thành 1 polygon ngẫu nhiên khác. Thực hiện đo 100 lần và lấy thời gian đo được chia 100."
      ]
    },
    {
      "cell_type": "code",
      "metadata": {
        "colab": {
          "base_uri": "https://localhost:8080/",
          "height": 206
        },
        "id": "NAnNWs91yq_q",
        "outputId": "5035d6ba-5aee-40d6-e16c-617d676449ae"
      },
      "source": [
        "update_time=pd.read_csv(\"https://raw.githubusercontent.com/UIT-19521183/CS523.L21/main/R-Tree/Time/Update_Polygon.csv\")\n",
        "update_time.head(5)"
      ],
      "execution_count": null,
      "outputs": [
        {
          "output_type": "execute_result",
          "data": {
            "text/html": [
              "<div>\n",
              "<style scoped>\n",
              "    .dataframe tbody tr th:only-of-type {\n",
              "        vertical-align: middle;\n",
              "    }\n",
              "\n",
              "    .dataframe tbody tr th {\n",
              "        vertical-align: top;\n",
              "    }\n",
              "\n",
              "    .dataframe thead th {\n",
              "        text-align: right;\n",
              "    }\n",
              "</style>\n",
              "<table border=\"1\" class=\"dataframe\">\n",
              "  <thead>\n",
              "    <tr style=\"text-align: right;\">\n",
              "      <th></th>\n",
              "      <th>size</th>\n",
              "      <th>time(s)</th>\n",
              "    </tr>\n",
              "  </thead>\n",
              "  <tbody>\n",
              "    <tr>\n",
              "      <th>0</th>\n",
              "      <td>100000</td>\n",
              "      <td>0.003140</td>\n",
              "    </tr>\n",
              "    <tr>\n",
              "      <th>1</th>\n",
              "      <td>200000</td>\n",
              "      <td>0.005589</td>\n",
              "    </tr>\n",
              "    <tr>\n",
              "      <th>2</th>\n",
              "      <td>300000</td>\n",
              "      <td>0.008103</td>\n",
              "    </tr>\n",
              "    <tr>\n",
              "      <th>3</th>\n",
              "      <td>400000</td>\n",
              "      <td>0.009681</td>\n",
              "    </tr>\n",
              "    <tr>\n",
              "      <th>4</th>\n",
              "      <td>500000</td>\n",
              "      <td>0.013140</td>\n",
              "    </tr>\n",
              "  </tbody>\n",
              "</table>\n",
              "</div>"
            ],
            "text/plain": [
              "     size   time(s)\n",
              "0  100000  0.003140\n",
              "1  200000  0.005589\n",
              "2  300000  0.008103\n",
              "3  400000  0.009681\n",
              "4  500000  0.013140"
            ]
          },
          "metadata": {},
          "execution_count": 60
        }
      ]
    },
    {
      "cell_type": "code",
      "metadata": {
        "id": "zP52PXA6yrBd"
      },
      "source": [
        "X=np.array(update_time['size']).reshape(-1,1)\n",
        "y=np.array(update_time['time(s)'])"
      ],
      "execution_count": null,
      "outputs": []
    },
    {
      "cell_type": "code",
      "metadata": {
        "colab": {
          "base_uri": "https://localhost:8080/",
          "height": 297
        },
        "id": "HH1W00v-yrEK",
        "outputId": "c8833b79-6849-4f3d-a7c1-2a20f54627ec"
      },
      "source": [
        "fig = plt.figure()\n",
        "ax = plt.axes()\n",
        "ax.set_xlabel('Size')\n",
        "ax.set_ylabel('Time(s)')\n",
        "plt.plot(X, y, 'r')"
      ],
      "execution_count": null,
      "outputs": [
        {
          "output_type": "execute_result",
          "data": {
            "text/plain": [
              "[<matplotlib.lines.Line2D at 0x7f7d367e63d0>]"
            ]
          },
          "metadata": {},
          "execution_count": 62
        },
        {
          "output_type": "display_data",
          "data": {
            "image/png": "[encoded data removed]",
            "text/plain": [
              "<Figure size 432x288 with 1 Axes>"
            ]
          },
          "metadata": {
            "needs_background": "light"
          }
        }
      ]
    },
    {
      "cell_type": "code",
      "metadata": {
        "colab": {
          "base_uri": "https://localhost:8080/"
        },
        "id": "DEuhBG4HyrF4",
        "outputId": "3225d18a-4085-40c8-e237-75e9245aa725"
      },
      "source": [
        "# O(log(n))\n",
        "X1=[]\n",
        "for i in X:\n",
        "  X1.append([math.log2(i[0])])\n",
        "reg1=LinearRegression().fit(X1,y)\n",
        "print(reg1.coef_)"
      ],
      "execution_count": null,
      "outputs": [
        {
          "output_type": "stream",
          "name": "stdout",
          "text": [
            "[0.03175056]\n"
          ]
        }
      ]
    },
    {
      "cell_type": "code",
      "metadata": {
        "colab": {
          "base_uri": "https://localhost:8080/"
        },
        "id": "N_Z1erlMyrQN",
        "outputId": "14ea7c31-edc4-4572-be7d-88db769cb3ed"
      },
      "source": [
        "# O(sqrt(n))\n",
        "X2=[]\n",
        "for i in X:\n",
        "  X2.append([math.sqrt(i[0])])\n",
        "reg2=LinearRegression().fit(X2,y)\n",
        "print(reg2.coef_)"
      ],
      "execution_count": null,
      "outputs": [
        {
          "output_type": "stream",
          "name": "stdout",
          "text": [
            "[8.52007344e-05]\n"
          ]
        }
      ]
    },
    {
      "cell_type": "code",
      "metadata": {
        "colab": {
          "base_uri": "https://localhost:8080/"
        },
        "id": "YGn9n0Mg4oSM",
        "outputId": "415609c8-8869-449f-9798-3940c857e084"
      },
      "source": [
        "# O(n)\n",
        "reg=LinearRegression().fit(X,y)\n",
        "print(reg.coef_)"
      ],
      "execution_count": null,
      "outputs": [
        {
          "output_type": "stream",
          "name": "stdout",
          "text": [
            "[3.09799343e-08]\n"
          ]
        }
      ]
    },
    {
      "cell_type": "code",
      "metadata": {
        "colab": {
          "base_uri": "https://localhost:8080/"
        },
        "id": "Eau-7By-4st3",
        "outputId": "68a92f94-560e-4ccd-e8b1-1962b0247482"
      },
      "source": [
        "# O(n*log(n))\n",
        "X3=[]\n",
        "for i in X:\n",
        "  X3.append([i[0]*math.log2(i[0])])\n",
        "reg3=LinearRegression().fit(X3,y)\n",
        "print(reg3.coef_)"
      ],
      "execution_count": null,
      "outputs": [
        {
          "output_type": "stream",
          "name": "stdout",
          "text": [
            "[1.37444273e-09]\n"
          ]
        }
      ]
    },
    {
      "cell_type": "code",
      "metadata": {
        "colab": {
          "base_uri": "https://localhost:8080/"
        },
        "id": "-lvkhG5b4swK",
        "outputId": "39cac713-8b6a-4195-fdde-7aeeee8d2240"
      },
      "source": [
        "# O(n^2)\n",
        "X4=[]\n",
        "for i in X:\n",
        "  X4.append([i[0]*i[0]])\n",
        "reg4=LinearRegression().fit(X4,y)\n",
        "print(reg4.coef_)"
      ],
      "execution_count": null,
      "outputs": [
        {
          "output_type": "stream",
          "name": "stdout",
          "text": [
            "[5.7121747e-15]\n"
          ]
        }
      ]
    },
    {
      "cell_type": "markdown",
      "metadata": {
        "id": "Gy9ca2jd7TUT"
      },
      "source": [
        "# Thao tác search với hàm ST_Touches\n",
        "Giới hạn data: 100K - 5M (step = 100k)\n",
        "<br>\n",
        "Tổng số record thu được: 50\n",
        "<br>\n",
        "Tìm các polygons trong table tiếp xúc với 1 polygon ngẫu nhiên cho trước (dùng hàm ST_Touches). Thực hiện đo 1 lần.\n"
      ]
    },
    {
      "cell_type": "code",
      "metadata": {
        "colab": {
          "base_uri": "https://localhost:8080/",
          "height": 206
        },
        "id": "e5SdaaMD7StN",
        "outputId": "e25becf3-7a93-4d81-ff84-f46b3a3f05bb"
      },
      "source": [
        "touches_time=pd.read_csv(\"https://raw.githubusercontent.com/UIT-19521183/CS523.L21/main/R-Tree/Time/Touch_Polygon.csv\")\n",
        "touches_time.head(5)"
      ],
      "execution_count": null,
      "outputs": [
        {
          "output_type": "execute_result",
          "data": {
            "text/html": [
              "<div>\n",
              "<style scoped>\n",
              "    .dataframe tbody tr th:only-of-type {\n",
              "        vertical-align: middle;\n",
              "    }\n",
              "\n",
              "    .dataframe tbody tr th {\n",
              "        vertical-align: top;\n",
              "    }\n",
              "\n",
              "    .dataframe thead th {\n",
              "        text-align: right;\n",
              "    }\n",
              "</style>\n",
              "<table border=\"1\" class=\"dataframe\">\n",
              "  <thead>\n",
              "    <tr style=\"text-align: right;\">\n",
              "      <th></th>\n",
              "      <th>size</th>\n",
              "      <th>time(s)</th>\n",
              "    </tr>\n",
              "  </thead>\n",
              "  <tbody>\n",
              "    <tr>\n",
              "      <th>0</th>\n",
              "      <td>100000</td>\n",
              "      <td>0.487111</td>\n",
              "    </tr>\n",
              "    <tr>\n",
              "      <th>1</th>\n",
              "      <td>200000</td>\n",
              "      <td>0.818227</td>\n",
              "    </tr>\n",
              "    <tr>\n",
              "      <th>2</th>\n",
              "      <td>300000</td>\n",
              "      <td>1.096778</td>\n",
              "    </tr>\n",
              "    <tr>\n",
              "      <th>3</th>\n",
              "      <td>400000</td>\n",
              "      <td>1.419688</td>\n",
              "    </tr>\n",
              "    <tr>\n",
              "      <th>4</th>\n",
              "      <td>500000</td>\n",
              "      <td>1.772715</td>\n",
              "    </tr>\n",
              "  </tbody>\n",
              "</table>\n",
              "</div>"
            ],
            "text/plain": [
              "     size   time(s)\n",
              "0  100000  0.487111\n",
              "1  200000  0.818227\n",
              "2  300000  1.096778\n",
              "3  400000  1.419688\n",
              "4  500000  1.772715"
            ]
          },
          "metadata": {},
          "execution_count": 68
        }
      ]
    },
    {
      "cell_type": "code",
      "metadata": {
        "id": "4SCtFUsm4syQ"
      },
      "source": [
        "X=np.array(touches_time['size']).reshape(-1,1)\n",
        "y=np.array(touches_time['time(s)'])"
      ],
      "execution_count": null,
      "outputs": []
    },
    {
      "cell_type": "code",
      "metadata": {
        "colab": {
          "base_uri": "https://localhost:8080/",
          "height": 297
        },
        "id": "o7Hu20HE4s05",
        "outputId": "61e3c895-1dcc-4df6-f27f-732cc4189e59"
      },
      "source": [
        "fig = plt.figure()\n",
        "ax = plt.axes()\n",
        "ax.set_xlabel('Size')\n",
        "ax.set_ylabel('Time(s)')\n",
        "plt.plot(X, y, 'r')"
      ],
      "execution_count": null,
      "outputs": [
        {
          "output_type": "execute_result",
          "data": {
            "text/plain": [
              "[<matplotlib.lines.Line2D at 0x7f7d3675d710>]"
            ]
          },
          "metadata": {},
          "execution_count": 70
        },
        {
          "output_type": "display_data",
          "data": {
            "image/png": "[encoded data removed]",
            "text/plain": [
              "<Figure size 432x288 with 1 Axes>"
            ]
          },
          "metadata": {
            "needs_background": "light"
          }
        }
      ]
    },
    {
      "cell_type": "code",
      "metadata": {
        "colab": {
          "base_uri": "https://localhost:8080/"
        },
        "id": "ofoQxGcw4s3k",
        "outputId": "8b7ba67e-0f75-4936-9d5e-a43b65cb7d26"
      },
      "source": [
        "# O(log(n))\n",
        "X1=[]\n",
        "for i in X:\n",
        "  X1.append([math.log2(i[0])])\n",
        "reg1=LinearRegression().fit(X1,y)\n",
        "print(reg1.coef_)"
      ],
      "execution_count": null,
      "outputs": [
        {
          "output_type": "stream",
          "name": "stdout",
          "text": [
            "[10.88894983]\n"
          ]
        }
      ]
    },
    {
      "cell_type": "code",
      "metadata": {
        "colab": {
          "base_uri": "https://localhost:8080/"
        },
        "id": "LMf1ELR78CkS",
        "outputId": "398a6c71-d478-4be9-a23c-e9ab652687ea"
      },
      "source": [
        "# O(sqrt(n))\n",
        "X2=[]\n",
        "for i in X:\n",
        "  X2.append([math.sqrt(i[0])])\n",
        "reg2=LinearRegression().fit(X2,y)\n",
        "print(reg2.coef_)"
      ],
      "execution_count": null,
      "outputs": [
        {
          "output_type": "stream",
          "name": "stdout",
          "text": [
            "[0.02982758]\n"
          ]
        }
      ]
    },
    {
      "cell_type": "code",
      "metadata": {
        "colab": {
          "base_uri": "https://localhost:8080/"
        },
        "id": "i8RhbGyw8Cm5",
        "outputId": "f7668b81-63db-49ce-b857-6e8bf9c64ff8"
      },
      "source": [
        "# O(n)\n",
        "reg=LinearRegression().fit(X,y)\n",
        "print(reg.coef_)"
      ],
      "execution_count": null,
      "outputs": [
        {
          "output_type": "stream",
          "name": "stdout",
          "text": [
            "[1.10143259e-05]\n"
          ]
        }
      ]
    },
    {
      "cell_type": "code",
      "metadata": {
        "colab": {
          "base_uri": "https://localhost:8080/"
        },
        "id": "YLvEq4kH8CpN",
        "outputId": "cd22a7cc-7617-4881-b7b9-b50331721c21"
      },
      "source": [
        "# O(n*log(n))\n",
        "X3=[]\n",
        "for i in X:\n",
        "  X3.append([i[0]*math.log2(i[0])])\n",
        "reg3=LinearRegression().fit(X3,y)\n",
        "print(reg3.coef_)"
      ],
      "execution_count": null,
      "outputs": [
        {
          "output_type": "stream",
          "name": "stdout",
          "text": [
            "[4.89503559e-07]\n"
          ]
        }
      ]
    },
    {
      "cell_type": "code",
      "metadata": {
        "colab": {
          "base_uri": "https://localhost:8080/"
        },
        "id": "DwuLkyIR8Crd",
        "outputId": "fc126ee0-b962-440f-a3d8-fffa2531c821"
      },
      "source": [
        "# O(n^2)\n",
        "X4=[]\n",
        "for i in X:\n",
        "  X4.append([i[0]*i[0]])\n",
        "reg4=LinearRegression().fit(X4,y)\n",
        "print(reg4.coef_)"
      ],
      "execution_count": null,
      "outputs": [
        {
          "output_type": "stream",
          "name": "stdout",
          "text": [
            "[2.0773701e-12]\n"
          ]
        }
      ]
    },
    {
      "cell_type": "markdown",
      "metadata": {
        "id": "0t4DIfNJ9Kbq"
      },
      "source": [
        "#Thao tác search với hàm ST_DWithin\n",
        "Giới hạn data: 100K - 5M (step = 100k)\n",
        "<br>\n",
        "Tổng số record thu được: 50\n",
        "<br>\n",
        "Tìm các polygons nằm trong phạm vi bán kính bằng 10 so với một polygon ngẫu nhiên cho trước (dùng hàm ST_DWithin). Thực hiện đo 1 lần."
      ]
    },
    {
      "cell_type": "code",
      "metadata": {
        "colab": {
          "base_uri": "https://localhost:8080/",
          "height": 206
        },
        "id": "-31A0RH89Jvu",
        "outputId": "57460224-83de-4cfd-9787-6a2c762081ba"
      },
      "source": [
        "dwithin_time=pd.read_csv(\"https://raw.githubusercontent.com/UIT-19521183/CS523.L21/main/R-Tree/Time/Dwithin_Polygon.csv\")\n",
        "dwithin_time.head(5)"
      ],
      "execution_count": null,
      "outputs": [
        {
          "output_type": "execute_result",
          "data": {
            "text/html": [
              "<div>\n",
              "<style scoped>\n",
              "    .dataframe tbody tr th:only-of-type {\n",
              "        vertical-align: middle;\n",
              "    }\n",
              "\n",
              "    .dataframe tbody tr th {\n",
              "        vertical-align: top;\n",
              "    }\n",
              "\n",
              "    .dataframe thead th {\n",
              "        text-align: right;\n",
              "    }\n",
              "</style>\n",
              "<table border=\"1\" class=\"dataframe\">\n",
              "  <thead>\n",
              "    <tr style=\"text-align: right;\">\n",
              "      <th></th>\n",
              "      <th>size</th>\n",
              "      <th>time(s)</th>\n",
              "    </tr>\n",
              "  </thead>\n",
              "  <tbody>\n",
              "    <tr>\n",
              "      <th>0</th>\n",
              "      <td>100000</td>\n",
              "      <td>0.203812</td>\n",
              "    </tr>\n",
              "    <tr>\n",
              "      <th>1</th>\n",
              "      <td>200000</td>\n",
              "      <td>0.275875</td>\n",
              "    </tr>\n",
              "    <tr>\n",
              "      <th>2</th>\n",
              "      <td>300000</td>\n",
              "      <td>0.343488</td>\n",
              "    </tr>\n",
              "    <tr>\n",
              "      <th>3</th>\n",
              "      <td>400000</td>\n",
              "      <td>0.403858</td>\n",
              "    </tr>\n",
              "    <tr>\n",
              "      <th>4</th>\n",
              "      <td>500000</td>\n",
              "      <td>0.424711</td>\n",
              "    </tr>\n",
              "  </tbody>\n",
              "</table>\n",
              "</div>"
            ],
            "text/plain": [
              "     size   time(s)\n",
              "0  100000  0.203812\n",
              "1  200000  0.275875\n",
              "2  300000  0.343488\n",
              "3  400000  0.403858\n",
              "4  500000  0.424711"
            ]
          },
          "metadata": {},
          "execution_count": 76
        }
      ]
    },
    {
      "cell_type": "code",
      "metadata": {
        "id": "v06Z1iqy8CvQ"
      },
      "source": [
        "X=np.array(dwithin_time['size']).reshape(-1,1)\n",
        "y=np.array(dwithin_time['time(s)'])"
      ],
      "execution_count": null,
      "outputs": []
    },
    {
      "cell_type": "code",
      "metadata": {
        "colab": {
          "base_uri": "https://localhost:8080/",
          "height": 297
        },
        "id": "m-qsbaGx8CyW",
        "outputId": "2158a87b-3480-460e-95ba-3d3d340acc1b"
      },
      "source": [
        "fig = plt.figure()\n",
        "ax = plt.axes()\n",
        "ax.set_xlabel('Size')\n",
        "ax.set_ylabel('Time(s)')\n",
        "plt.plot(X, y, 'r')"
      ],
      "execution_count": null,
      "outputs": [
        {
          "output_type": "execute_result",
          "data": {
            "text/plain": [
              "[<matplotlib.lines.Line2D at 0x7f7d366c3c90>]"
            ]
          },
          "metadata": {},
          "execution_count": 78
        },
        {
          "output_type": "display_data",
          "data": {
            "image/png": "[encoded data removed]",
            "text/plain": [
              "<Figure size 432x288 with 1 Axes>"
            ]
          },
          "metadata": {
            "needs_background": "light"
          }
        }
      ]
    },
    {
      "cell_type": "code",
      "metadata": {
        "colab": {
          "base_uri": "https://localhost:8080/"
        },
        "id": "1Uw5zqWF8C1S",
        "outputId": "413af238-1424-43c9-8f98-4d19cc3b2871"
      },
      "source": [
        "# O(log(n))\n",
        "X1=[]\n",
        "for i in X:\n",
        "  X1.append([math.log2(i[0])])\n",
        "reg1=LinearRegression().fit(X1,y)\n",
        "print(reg1.coef_)"
      ],
      "execution_count": null,
      "outputs": [
        {
          "output_type": "stream",
          "name": "stdout",
          "text": [
            "[0.50314826]\n"
          ]
        }
      ]
    },
    {
      "cell_type": "code",
      "metadata": {
        "colab": {
          "base_uri": "https://localhost:8080/"
        },
        "id": "QuA98KeF8C4Z",
        "outputId": "13bb880f-2eda-4616-9a88-1d114a9965e4"
      },
      "source": [
        "# O(sqrt(n))\n",
        "X2=[]\n",
        "for i in X:\n",
        "  X2.append([math.sqrt(i[0])])\n",
        "reg2=LinearRegression().fit(X2,y)\n",
        "print(reg2.coef_)"
      ],
      "execution_count": null,
      "outputs": [
        {
          "output_type": "stream",
          "name": "stdout",
          "text": [
            "[0.00131708]\n"
          ]
        }
      ]
    },
    {
      "cell_type": "code",
      "metadata": {
        "colab": {
          "base_uri": "https://localhost:8080/"
        },
        "id": "BYbPks4N8C7f",
        "outputId": "8b143d57-fb4d-4895-be28-81ddd746a4dd"
      },
      "source": [
        "# O(n)\n",
        "reg=LinearRegression().fit(X,y)\n",
        "print(reg.coef_)"
      ],
      "execution_count": null,
      "outputs": [
        {
          "output_type": "stream",
          "name": "stdout",
          "text": [
            "[4.69672568e-07]\n"
          ]
        }
      ]
    },
    {
      "cell_type": "code",
      "metadata": {
        "colab": {
          "base_uri": "https://localhost:8080/"
        },
        "id": "JVgvrEDW8DAh",
        "outputId": "ccb9e760-0829-4be5-a9bf-a712bc996050"
      },
      "source": [
        "# O(n*log(n))\n",
        "X3=[]\n",
        "for i in X:\n",
        "  X3.append([i[0]*math.log2(i[0])])\n",
        "reg3=LinearRegression().fit(X3,y)\n",
        "print(reg3.coef_)"
      ],
      "execution_count": null,
      "outputs": [
        {
          "output_type": "stream",
          "name": "stdout",
          "text": [
            "[2.0791727e-08]\n"
          ]
        }
      ]
    },
    {
      "cell_type": "code",
      "metadata": {
        "colab": {
          "base_uri": "https://localhost:8080/"
        },
        "id": "pjIGvNcB-mky",
        "outputId": "fafa5b77-d34c-4da7-d93c-3b7cd6be0276"
      },
      "source": [
        "# O(n^2)\n",
        "X4=[]\n",
        "for i in X:\n",
        "  X4.append([i[0]*i[0]])\n",
        "reg4=LinearRegression().fit(X4,y)\n",
        "print(reg4.coef_)"
      ],
      "execution_count": null,
      "outputs": [
        {
          "output_type": "stream",
          "name": "stdout",
          "text": [
            "[8.43010133e-14]\n"
          ]
        }
      ]
    }
  ]
}