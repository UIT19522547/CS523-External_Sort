{
  "nbformat": 4,
  "nbformat_minor": 0,
  "metadata": {
    "colab": {
      "name": "Đo độ phức tạp của các thao tác PostgreSQL.ipynb",
      "provenance": []
    },
    "kernelspec": {
      "name": "python3",
      "display_name": "Python 3"
    },
    "language_info": {
      "name": "python"
    }
  },
  "cells": [
    {
      "cell_type": "markdown",
      "metadata": {
        "id": "xwn72e9sNviF"
      },
      "source": [
        "#Library"
      ]
    },
    {
      "cell_type": "code",
      "metadata": {
        "id": "1Lylpld-GHo6"
      },
      "source": [
        "import pandas as pd\n",
        "import numpy as np\n",
        "import math\n",
        "from sklearn.linear_model import LinearRegression\n",
        "import matplotlib.pyplot as plt\n",
        "%matplotlib inline"
      ],
      "execution_count": null,
      "outputs": []
    },
    {
      "cell_type": "markdown",
      "metadata": {
        "id": "7iJ1QN9dOB1f"
      },
      "source": [
        "#Open R-tree\n",
        "Đo Open dùng bộ data gồm các điểm random.\n",
        "<br>\n",
        "Giới hạn data: 2M-100M\n",
        "<br>\n",
        "Step = 2M\n",
        "<br>\n",
        "Số lượng record để đo độ phức tạp: 50 \n",
        "<br>\n",
        "Đo thời gian Open R-tree bằng cách đo thời gian Insert record riêng biệt 1000 lần (Sẽ chứa thời gian Open R-tree 1000 lần) - thời gian Insert 1000 record vào cây 1 lần duy nhất (Mở cây chỉ 1 lần - không đáng kể so với 1000 lần)"
      ]
    },
    {
      "cell_type": "markdown",
      "metadata": {
        "id": "RHYjpFiaOcWb"
      },
      "source": [
        "##Load data"
      ]
    },
    {
      "cell_type": "code",
      "metadata": {
        "id": "BX06ePiBN3rg"
      },
      "source": [
        "url='https://raw.githubusercontent.com/UIT19522547/CS523-n05/main/R-tree/data/Insert_Many_x.csv'\n",
        "data_open=pd.read_csv(url)"
      ],
      "execution_count": null,
      "outputs": []
    },
    {
      "cell_type": "code",
      "metadata": {
        "id": "ZdAhFjfpOVRF"
      },
      "source": [
        "X=np.array(data_open['n']).reshape(-1,1)\n",
        "y=np.array(data_open['time'])"
      ],
      "execution_count": null,
      "outputs": []
    },
    {
      "cell_type": "markdown",
      "metadata": {
        "id": "DwzZVqFbOeHj"
      },
      "source": [
        "##Visualization"
      ]
    },
    {
      "cell_type": "code",
      "metadata": {
        "colab": {
          "base_uri": "https://localhost:8080/"
        },
        "id": "uk8WWSMcObl7",
        "outputId": "f26ae935-eb47-4b64-fe12-e908a3f75867"
      },
      "source": [
        "plt.plot(X,y,'r-')\n",
        "plt.xlabel('n')\n",
        "plt.ylabel('time')"
      ],
      "execution_count": null,
      "outputs": [
        {
          "output_type": "execute_result",
          "data": {
            "text/plain": [
              "Text(0, 0.5, 'time')"
            ]
          },
          "metadata": {},
          "execution_count": 5
        },
        {
          "output_type": "display_data",
          "data": {
            "image/png": "[encoded data removed]",
            "text/plain": [
              "<Figure size 432x288 with 1 Axes>"
            ]
          },
          "metadata": {
            "needs_background": "light"
          }
        }
      ]
    },
    {
      "cell_type": "markdown",
      "metadata": {
        "id": "k4SCSR_iQCgS"
      },
      "source": [
        "##Dùng Linear Regression để tìm ra công thức của độ phức tạp"
      ]
    },
    {
      "cell_type": "code",
      "metadata": {
        "colab": {
          "base_uri": "https://localhost:8080/"
        },
        "id": "Kugnv9kjQIPG",
        "outputId": "27391393-8be3-47ef-d900-a0be96a57126"
      },
      "source": [
        "#O(n)\n",
        "reg=LinearRegression().fit(X,y)\n",
        "print(reg.coef_)"
      ],
      "execution_count": null,
      "outputs": [
        {
          "output_type": "stream",
          "name": "stdout",
          "text": [
            "[1.03622002e-12]\n"
          ]
        }
      ]
    },
    {
      "cell_type": "code",
      "metadata": {
        "colab": {
          "base_uri": "https://localhost:8080/"
        },
        "id": "pqBgP-pxQXPa",
        "outputId": "31851dfc-5573-496d-c9c5-aa5dd7513f6f"
      },
      "source": [
        "#O(n^2)\n",
        "X2=[]\n",
        "for i in X:\n",
        "  X2.append([i[0]*i[0]])\n",
        "reg2=LinearRegression().fit(X2,y)\n",
        "print(reg2.coef_)"
      ],
      "execution_count": null,
      "outputs": [
        {
          "output_type": "stream",
          "name": "stdout",
          "text": [
            "[7.88115333e-21]\n"
          ]
        }
      ]
    },
    {
      "cell_type": "code",
      "metadata": {
        "colab": {
          "base_uri": "https://localhost:8080/"
        },
        "id": "Q_fkDzLfQcpp",
        "outputId": "d1af1b44-6df4-4a26-d5c1-5c480ce38c79"
      },
      "source": [
        "#O(sqrt(n))\n",
        "X3=[]\n",
        "for i in X:\n",
        "  X3.append([math.sqrt(i[0])])\n",
        "reg3=LinearRegression().fit(X3,y)\n",
        "print(reg3.coef_)"
      ],
      "execution_count": null,
      "outputs": [
        {
          "output_type": "stream",
          "name": "stdout",
          "text": [
            "[1.2572657e-08]\n"
          ]
        }
      ]
    },
    {
      "cell_type": "code",
      "metadata": {
        "colab": {
          "base_uri": "https://localhost:8080/"
        },
        "id": "gCnT6oqTQhXu",
        "outputId": "16d55103-a59f-4b29-8ead-32ba37243474"
      },
      "source": [
        "#O(log(n))\n",
        "X4=[]\n",
        "for i in X:\n",
        "  X4.append([math.log(i[0],2)])\n",
        "reg4=LinearRegression().fit(X4,y)\n",
        "print(reg4.coef_)"
      ],
      "execution_count": null,
      "outputs": [
        {
          "output_type": "stream",
          "name": "stdout",
          "text": [
            "[1.81468739e-05]\n"
          ]
        }
      ]
    },
    {
      "cell_type": "code",
      "metadata": {
        "colab": {
          "base_uri": "https://localhost:8080/"
        },
        "id": "jF3PCyLjQl9N",
        "outputId": "e7966764-f3e8-4848-ff3b-4d9de72943e0"
      },
      "source": [
        "#O(nlog(n))\n",
        "X5=[]\n",
        "for i in X:\n",
        "  X5.append([i[0]*math.log(i[0],2)])\n",
        "reg5=LinearRegression().fit(X5,y)\n",
        "print(reg5.coef_)"
      ],
      "execution_count": null,
      "outputs": [
        {
          "output_type": "stream",
          "name": "stdout",
          "text": [
            "[3.84421507e-14]\n"
          ]
        }
      ]
    },
    {
      "cell_type": "markdown",
      "metadata": {
        "id": "G2smsN2zSP60"
      },
      "source": [
        "#Insert Polygon\n",
        "Giới hạn data: từ 100K-10M (n)\n",
        "<br>\n",
        "Step = 100K\n",
        "<br>\n",
        "Tổng số record thu được: 100\n",
        "<br>\n",
        "Số record sử dụng để đo độ phức tạp: 50\n",
        "<br>\n",
        "Insert các Polygol được tạo random vào bảng đã có từ 100K-10M record."
      ]
    },
    {
      "cell_type": "markdown",
      "metadata": {
        "id": "cuRYmTkASVaQ"
      },
      "source": [
        "##Load data"
      ]
    },
    {
      "cell_type": "code",
      "metadata": {
        "id": "KWEO_ZbmSTIC"
      },
      "source": [
        "url='https://raw.githubusercontent.com/UIT19522547/CS523-n05/main/R-tree/data/Insert_Polygon.csv'\n",
        "data_insert=pd.read_csv(url)\n",
        "X=np.array(data_insert['n']).reshape(-1,1)\n",
        "y=np.array(data_insert['time'])"
      ],
      "execution_count": null,
      "outputs": []
    },
    {
      "cell_type": "markdown",
      "metadata": {
        "id": "nZt3FAuoSo4q"
      },
      "source": [
        "##Visualization"
      ]
    },
    {
      "cell_type": "code",
      "metadata": {
        "colab": {
          "base_uri": "https://localhost:8080/"
        },
        "id": "wQyugrxRSqWw",
        "outputId": "14b4a294-3afb-45cb-adf6-15275d45cb25"
      },
      "source": [
        "plt.plot(X,y,'r-')\n",
        "plt.xlabel('n')\n",
        "plt.ylabel('time')"
      ],
      "execution_count": null,
      "outputs": [
        {
          "output_type": "execute_result",
          "data": {
            "text/plain": [
              "Text(0, 0.5, 'time')"
            ]
          },
          "metadata": {},
          "execution_count": 12
        },
        {
          "output_type": "display_data",
          "data": {
            "image/png": "[encoded data removed]",
            "text/plain": [
              "<Figure size 432x288 with 1 Axes>"
            ]
          },
          "metadata": {
            "needs_background": "light"
          }
        }
      ]
    },
    {
      "cell_type": "markdown",
      "metadata": {
        "id": "GTSmtfZzSugX"
      },
      "source": [
        "##Dùng Linear Regression để tìm ra công thức của độ phức tạp"
      ]
    },
    {
      "cell_type": "code",
      "metadata": {
        "colab": {
          "base_uri": "https://localhost:8080/"
        },
        "id": "wqQzdFUdStIi",
        "outputId": "1bbb91ea-016d-40d2-b08c-c422e96930c7"
      },
      "source": [
        "#O(n)\n",
        "reg=LinearRegression().fit(X,y)\n",
        "print(reg.coef_)"
      ],
      "execution_count": null,
      "outputs": [
        {
          "output_type": "stream",
          "name": "stdout",
          "text": [
            "[3.15025162e-12]\n"
          ]
        }
      ]
    },
    {
      "cell_type": "code",
      "metadata": {
        "colab": {
          "base_uri": "https://localhost:8080/"
        },
        "id": "xZvOWy4ZS1JJ",
        "outputId": "760aaeb4-458d-42ad-bda3-be904b20da4e"
      },
      "source": [
        "#O(n^2)\n",
        "X2=[]\n",
        "for i in X:\n",
        "  X2.append([i[0]*i[0]])\n",
        "reg2=LinearRegression().fit(X2,y)\n",
        "print(reg2.coef_)"
      ],
      "execution_count": null,
      "outputs": [
        {
          "output_type": "stream",
          "name": "stdout",
          "text": [
            "[7.08498886e-19]\n"
          ]
        }
      ]
    },
    {
      "cell_type": "code",
      "metadata": {
        "colab": {
          "base_uri": "https://localhost:8080/"
        },
        "id": "5gykL82LS3KV",
        "outputId": "aa0ce393-14dc-44e8-a470-3774969d1e87"
      },
      "source": [
        "#O(sqrt(n))\n",
        "X3=[]\n",
        "for i in X:\n",
        "  X3.append([math.sqrt(i[0])])\n",
        "reg3=LinearRegression().fit(X3,y)\n",
        "print(reg3.coef_)"
      ],
      "execution_count": null,
      "outputs": [
        {
          "output_type": "stream",
          "name": "stdout",
          "text": [
            "[7.40881734e-09]\n"
          ]
        }
      ]
    },
    {
      "cell_type": "code",
      "metadata": {
        "colab": {
          "base_uri": "https://localhost:8080/"
        },
        "id": "PoM_fcN5S3T6",
        "outputId": "bac92ef6-c8ff-44db-bac4-703b80a42c1a"
      },
      "source": [
        "#O(log(n))\n",
        "X4=[]\n",
        "for i in X:\n",
        "  X4.append([math.log(i[0],2)])\n",
        "reg4=LinearRegression().fit(X4,y)\n",
        "print(reg4.coef_)"
      ],
      "execution_count": null,
      "outputs": [
        {
          "output_type": "stream",
          "name": "stdout",
          "text": [
            "[2.3040718e-06]\n"
          ]
        }
      ]
    },
    {
      "cell_type": "code",
      "metadata": {
        "colab": {
          "base_uri": "https://localhost:8080/"
        },
        "id": "pEGP8Fn5S3cU",
        "outputId": "ec4e4a1d-3bf2-455d-b2c3-28a8ac9a4a97"
      },
      "source": [
        "#O(nlog(n))\n",
        "X5=[]\n",
        "for i in X:\n",
        "  X5.append([i[0]*math.log(i[0],2)])\n",
        "reg5=LinearRegression().fit(X5,y)\n",
        "print(reg5.coef_)"
      ],
      "execution_count": null,
      "outputs": [
        {
          "output_type": "stream",
          "name": "stdout",
          "text": [
            "[1.42186074e-13]\n"
          ]
        }
      ]
    },
    {
      "cell_type": "markdown",
      "metadata": {
        "id": "Gk-g44InTAuo"
      },
      "source": [
        "#Search Polygon\n",
        "Giới hạn data: từ 100K-10M (n)\n",
        "<br>\n",
        "Step = 100K\n",
        "<br>\n",
        "Tổng số record thu được: 100\n",
        "<br>\n",
        "Số record sử dụng để đo độ phức tạp: 50\n",
        "<br>\n",
        "Tìm kiếm các Polygon bằng với Polygon được tạo random trong bảng đã có từ 100K-10M record."
      ]
    },
    {
      "cell_type": "markdown",
      "metadata": {
        "id": "55Mwg8ktTDkL"
      },
      "source": [
        "##Load data"
      ]
    },
    {
      "cell_type": "code",
      "metadata": {
        "id": "R_B0gdnJTE1L"
      },
      "source": [
        "url='https://raw.githubusercontent.com/UIT19522547/CS523-n05/main/R-tree/data/Search_Polygol.csv'\n",
        "data_insert=pd.read_csv(url)\n",
        "X=np.array(data_insert['n']).reshape(-1,1)\n",
        "y=np.array(data_insert['time'])"
      ],
      "execution_count": null,
      "outputs": []
    },
    {
      "cell_type": "markdown",
      "metadata": {
        "id": "BZShSx5-TSZZ"
      },
      "source": [
        "##Visualization"
      ]
    },
    {
      "cell_type": "code",
      "metadata": {
        "colab": {
          "base_uri": "https://localhost:8080/"
        },
        "id": "IYc0Efb7TRj-",
        "outputId": "770bb38a-d4c5-421a-ae66-787ef0fa7fe5"
      },
      "source": [
        "plt.plot(X,y,'r-')\n",
        "plt.xlabel('n')\n",
        "plt.ylabel('time')"
      ],
      "execution_count": null,
      "outputs": [
        {
          "output_type": "execute_result",
          "data": {
            "text/plain": [
              "Text(0, 0.5, 'time')"
            ]
          },
          "metadata": {},
          "execution_count": 19
        },
        {
          "output_type": "display_data",
          "data": {
            "image/png": "[encoded data removed]",
            "text/plain": [
              "<Figure size 432x288 with 1 Axes>"
            ]
          },
          "metadata": {
            "needs_background": "light"
          }
        }
      ]
    },
    {
      "cell_type": "markdown",
      "metadata": {
        "id": "59WRNaTgTWY6"
      },
      "source": [
        "##Dùng Linear Regression để tìm ra công thức của độ phức tạp"
      ]
    },
    {
      "cell_type": "code",
      "metadata": {
        "colab": {
          "base_uri": "https://localhost:8080/"
        },
        "id": "wKYExzT4Ta9Q",
        "outputId": "c804baf6-64ea-47a9-9964-2d58f4bcdc87"
      },
      "source": [
        "#O(n)\n",
        "reg=LinearRegression().fit(X,y)\n",
        "print(reg.coef_)"
      ],
      "execution_count": null,
      "outputs": [
        {
          "output_type": "stream",
          "name": "stdout",
          "text": [
            "[5.86568909e-09]\n"
          ]
        }
      ]
    },
    {
      "cell_type": "code",
      "metadata": {
        "colab": {
          "base_uri": "https://localhost:8080/"
        },
        "id": "jRM7HjF2TdJ3",
        "outputId": "577043b3-e567-46ad-ca6f-fddc34f4cf5b"
      },
      "source": [
        "#O(n^2)\n",
        "X2=[]\n",
        "for i in X:\n",
        "  X2.append([i[0]*i[0]])\n",
        "reg2=LinearRegression().fit(X2,y)\n",
        "print(reg2.coef_)"
      ],
      "execution_count": null,
      "outputs": [
        {
          "output_type": "stream",
          "name": "stdout",
          "text": [
            "[1.11659466e-15]\n"
          ]
        }
      ]
    },
    {
      "cell_type": "code",
      "metadata": {
        "colab": {
          "base_uri": "https://localhost:8080/"
        },
        "id": "xLkIBd_oTdhV",
        "outputId": "25e24fa4-5546-42d9-fed6-761d18acf0b5"
      },
      "source": [
        "#O(sqrt(n))\n",
        "X3=[]\n",
        "for i in X:\n",
        "  X3.append([math.sqrt(i[0])])\n",
        "reg3=LinearRegression().fit(X3,y)\n",
        "print(reg3.coef_)"
      ],
      "execution_count": null,
      "outputs": [
        {
          "output_type": "stream",
          "name": "stdout",
          "text": [
            "[1.58586679e-05]\n"
          ]
        }
      ]
    },
    {
      "cell_type": "code",
      "metadata": {
        "colab": {
          "base_uri": "https://localhost:8080/"
        },
        "id": "94JS-lJmTdqA",
        "outputId": "8587095e-7218-4d18-a9e0-e01b407a1f13"
      },
      "source": [
        "#O(log(n))\n",
        "X4=[]\n",
        "for i in X:\n",
        "  X4.append([math.log(i[0],2)])\n",
        "reg4=LinearRegression().fit(X4,y)\n",
        "print(reg4.coef_)"
      ],
      "execution_count": null,
      "outputs": [
        {
          "output_type": "stream",
          "name": "stdout",
          "text": [
            "[0.00583077]\n"
          ]
        }
      ]
    },
    {
      "cell_type": "code",
      "metadata": {
        "colab": {
          "base_uri": "https://localhost:8080/"
        },
        "id": "sexBsVsjTd00",
        "outputId": "b1a8e552-4e78-405f-eb76-2ed663c08050"
      },
      "source": [
        "#O(nlog(n))\n",
        "X5=[]\n",
        "for i in X:\n",
        "  X5.append([i[0]*math.log(i[0],2)])\n",
        "reg5=LinearRegression().fit(X5,y)\n",
        "print(reg5.coef_)"
      ],
      "execution_count": null,
      "outputs": [
        {
          "output_type": "stream",
          "name": "stdout",
          "text": [
            "[2.60809216e-10]\n"
          ]
        }
      ]
    },
    {
      "cell_type": "markdown",
      "metadata": {
        "id": "ZMou-hIXToYy"
      },
      "source": [
        "#Overlaps\n",
        "Giới hạn data: từ 100K-10M (n)\n",
        "<br>\n",
        "Step = 100K\n",
        "<br>\n",
        "Tổng số record thu được: 100\n",
        "<br>\n",
        "Số record sử dụng để đo độ phức tạp: 50\n",
        "<br>\n",
        "Tìm kiếm các Polygon chồng chéo về mặt không gian với Polygon được tạo random trong bảng đã có từ 100K-10M record."
      ]
    },
    {
      "cell_type": "markdown",
      "metadata": {
        "id": "xNIlIZeFTqbt"
      },
      "source": [
        "##Load data"
      ]
    },
    {
      "cell_type": "code",
      "metadata": {
        "id": "JBK-z4kJTrzZ"
      },
      "source": [
        "url='https://raw.githubusercontent.com/UIT19522547/CS523-n05/main/R-tree/data/Overlaps_Polygon.csv'\n",
        "data_insert=pd.read_csv(url)\n",
        "X=np.array(data_insert['n']).reshape(-1,1)\n",
        "y=np.array(data_insert['time'])"
      ],
      "execution_count": null,
      "outputs": []
    },
    {
      "cell_type": "markdown",
      "metadata": {
        "id": "7lGyC8pMTs1p"
      },
      "source": [
        "##Visualization"
      ]
    },
    {
      "cell_type": "code",
      "metadata": {
        "colab": {
          "base_uri": "https://localhost:8080/"
        },
        "id": "x6EEcDpETsAt",
        "outputId": "d54f1baf-de82-4bd3-c719-4bdc7305ddd1"
      },
      "source": [
        "plt.plot(X,y,'r-')\n",
        "plt.xlabel('n')\n",
        "plt.ylabel('time')"
      ],
      "execution_count": null,
      "outputs": [
        {
          "output_type": "execute_result",
          "data": {
            "text/plain": [
              "Text(0, 0.5, 'time')"
            ]
          },
          "metadata": {},
          "execution_count": 26
        },
        {
          "output_type": "display_data",
          "data": {
            "image/png": "[encoded data removed]",
            "text/plain": [
              "<Figure size 432x288 with 1 Axes>"
            ]
          },
          "metadata": {
            "needs_background": "light"
          }
        }
      ]
    },
    {
      "cell_type": "markdown",
      "metadata": {
        "id": "plDS5x9ETvQX"
      },
      "source": [
        "##Dùng Linear Regression để tìm ra công thức của độ phức tạp"
      ]
    },
    {
      "cell_type": "code",
      "metadata": {
        "colab": {
          "base_uri": "https://localhost:8080/"
        },
        "id": "CaGlGGPmTzAJ",
        "outputId": "d67bba19-7a65-4460-e80e-4199815b7e04"
      },
      "source": [
        "#O(n)\n",
        "reg=LinearRegression().fit(X,y)\n",
        "print(reg.coef_)"
      ],
      "execution_count": null,
      "outputs": [
        {
          "output_type": "stream",
          "name": "stdout",
          "text": [
            "[4.74528027e-07]\n"
          ]
        }
      ]
    },
    {
      "cell_type": "code",
      "metadata": {
        "colab": {
          "base_uri": "https://localhost:8080/"
        },
        "id": "2VJqMeM8TzDO",
        "outputId": "75087cd2-e7b9-47d4-c11f-317bb3f26458"
      },
      "source": [
        "#O(n^2)\n",
        "X2=[]\n",
        "for i in X:\n",
        "  X2.append([i[0]*i[0]])\n",
        "reg2=LinearRegression().fit(X2,y)\n",
        "print(reg2.coef_)"
      ],
      "execution_count": null,
      "outputs": [
        {
          "output_type": "stream",
          "name": "stdout",
          "text": [
            "[8.87486614e-14]\n"
          ]
        }
      ]
    },
    {
      "cell_type": "code",
      "metadata": {
        "colab": {
          "base_uri": "https://localhost:8080/"
        },
        "id": "dHe1JdlKTzQD",
        "outputId": "c9149978-6dc2-438f-9976-643709b2dfb8"
      },
      "source": [
        "#O(sqrt(n))\n",
        "X3=[]\n",
        "for i in X:\n",
        "  X3.append([math.sqrt(i[0])])\n",
        "reg3=LinearRegression().fit(X3,y)\n",
        "print(reg3.coef_)"
      ],
      "execution_count": null,
      "outputs": [
        {
          "output_type": "stream",
          "name": "stdout",
          "text": [
            "[0.00129615]\n"
          ]
        }
      ]
    },
    {
      "cell_type": "code",
      "metadata": {
        "colab": {
          "base_uri": "https://localhost:8080/"
        },
        "id": "a_PbcHGtTzY0",
        "outputId": "3a77689e-c45a-4402-db53-fe0d3a487663"
      },
      "source": [
        "#O(log(n))\n",
        "X4=[]\n",
        "for i in X:\n",
        "  X4.append([math.log(i[0],2)])\n",
        "reg4=LinearRegression().fit(X4,y)\n",
        "print(reg4.coef_)"
      ],
      "execution_count": null,
      "outputs": [
        {
          "output_type": "stream",
          "name": "stdout",
          "text": [
            "[0.47955628]\n"
          ]
        }
      ]
    },
    {
      "cell_type": "code",
      "metadata": {
        "colab": {
          "base_uri": "https://localhost:8080/"
        },
        "id": "-N2Lk_vvTzze",
        "outputId": "9841ddaf-c642-48d7-e415-0a4414482dcc"
      },
      "source": [
        "#O(nlog(n))\n",
        "X5=[]\n",
        "for i in X:\n",
        "  X5.append([i[0]*math.log(i[0],2)])\n",
        "reg5=LinearRegression().fit(X5,y)\n",
        "print(reg5.coef_)"
      ],
      "execution_count": null,
      "outputs": [
        {
          "output_type": "stream",
          "name": "stdout",
          "text": [
            "[2.10711475e-08]\n"
          ]
        }
      ]
    },
    {
      "cell_type": "markdown",
      "metadata": {
        "id": "YzG2HBBWUHT5"
      },
      "source": [
        "#Contains\n",
        "Giới hạn data: từ 100K-10M (n)\n",
        "<br>\n",
        "Step = 100K\n",
        "<br>\n",
        "Tổng số record thu được: 100\n",
        "<br>\n",
        "Số record sử dụng để đo độ phức tạp: 50\n",
        "<br>\n",
        "Tìm kiếm các Polygon chứa Polygon được tạo random trong bảng đã có từ 100K-10M record."
      ]
    },
    {
      "cell_type": "markdown",
      "metadata": {
        "id": "mxErTveKUNNl"
      },
      "source": [
        "##Load data"
      ]
    },
    {
      "cell_type": "code",
      "metadata": {
        "id": "B0Pszj_jUOdT"
      },
      "source": [
        "url='https://raw.githubusercontent.com/UIT19522547/CS523-n05/main/R-tree/data/Contain_Polygon.csv'\n",
        "data_insert=pd.read_csv(url)\n",
        "X=np.array(data_insert['n']).reshape(-1,1)\n",
        "y=np.array(data_insert['time'])"
      ],
      "execution_count": null,
      "outputs": []
    },
    {
      "cell_type": "markdown",
      "metadata": {
        "id": "RDftZl0UUOoP"
      },
      "source": [
        "##Visualization"
      ]
    },
    {
      "cell_type": "code",
      "metadata": {
        "colab": {
          "base_uri": "https://localhost:8080/"
        },
        "id": "HSUmfZqaUQnn",
        "outputId": "2c4723dc-3197-47da-9b4d-25f306c317fb"
      },
      "source": [
        "plt.plot(X,y,'r-')\n",
        "plt.xlabel('n')\n",
        "plt.ylabel('time')"
      ],
      "execution_count": null,
      "outputs": [
        {
          "output_type": "execute_result",
          "data": {
            "text/plain": [
              "Text(0, 0.5, 'time')"
            ]
          },
          "metadata": {},
          "execution_count": 33
        },
        {
          "output_type": "display_data",
          "data": {
            "image/png": "[encoded data removed]",
            "text/plain": [
              "<Figure size 432x288 with 1 Axes>"
            ]
          },
          "metadata": {
            "needs_background": "light"
          }
        }
      ]
    },
    {
      "cell_type": "markdown",
      "metadata": {
        "id": "5V6j6V3GUSdg"
      },
      "source": [
        "##Dùng Linear Regression để tìm ra công thức của độ phức tạp"
      ]
    },
    {
      "cell_type": "code",
      "metadata": {
        "colab": {
          "base_uri": "https://localhost:8080/"
        },
        "id": "n9jgUudPUS7-",
        "outputId": "f38816fc-7005-4af8-9355-a0f698a1975d"
      },
      "source": [
        "#O(n)\n",
        "reg=LinearRegression().fit(X,y)\n",
        "print(reg.coef_)"
      ],
      "execution_count": null,
      "outputs": [
        {
          "output_type": "stream",
          "name": "stdout",
          "text": [
            "[3.46268151e-07]\n"
          ]
        }
      ]
    },
    {
      "cell_type": "code",
      "metadata": {
        "colab": {
          "base_uri": "https://localhost:8080/"
        },
        "id": "MmYmUQhXUTJP",
        "outputId": "a55b76cb-4a43-45b3-b5ae-659e14a61c84"
      },
      "source": [
        "#O(n^2)\n",
        "X2=[]\n",
        "for i in X:\n",
        "  X2.append([i[0]*i[0]])\n",
        "reg2=LinearRegression().fit(X2,y)\n",
        "print(reg2.coef_)"
      ],
      "execution_count": null,
      "outputs": [
        {
          "output_type": "stream",
          "name": "stdout",
          "text": [
            "[6.68356794e-14]\n"
          ]
        }
      ]
    },
    {
      "cell_type": "code",
      "metadata": {
        "colab": {
          "base_uri": "https://localhost:8080/"
        },
        "id": "DrWb5lsnUTSt",
        "outputId": "f7377202-b5e8-44f5-c493-e0d13eadf53e"
      },
      "source": [
        "#O(sqrt(n))\n",
        "X3=[]\n",
        "for i in X:\n",
        "  X3.append([math.sqrt(i[0])])\n",
        "reg3=LinearRegression().fit(X3,y)\n",
        "print(reg3.coef_)"
      ],
      "execution_count": null,
      "outputs": [
        {
          "output_type": "stream",
          "name": "stdout",
          "text": [
            "[0.00093033]\n"
          ]
        }
      ]
    },
    {
      "cell_type": "code",
      "metadata": {
        "colab": {
          "base_uri": "https://localhost:8080/"
        },
        "id": "taTp8LwRUTbw",
        "outputId": "13e75629-cec2-4b6f-92b8-040d4025c9b5"
      },
      "source": [
        "#O(log(n))\n",
        "X4=[]\n",
        "for i in X:\n",
        "  X4.append([math.log(i[0],2)])\n",
        "reg4=LinearRegression().fit(X4,y)\n",
        "print(reg4.coef_)"
      ],
      "execution_count": null,
      "outputs": [
        {
          "output_type": "stream",
          "name": "stdout",
          "text": [
            "[0.33923277]\n"
          ]
        }
      ]
    },
    {
      "cell_type": "code",
      "metadata": {
        "colab": {
          "base_uri": "https://localhost:8080/"
        },
        "id": "0Pkik4x6UTl5",
        "outputId": "a6e14563-15bc-47c9-b198-8a8eca16a3b7"
      },
      "source": [
        "#O(nlog(n))\n",
        "X5=[]\n",
        "for i in X:\n",
        "  X5.append([i[0]*math.log(i[0],2)])\n",
        "reg5=LinearRegression().fit(X5,y)\n",
        "print(reg5.coef_)"
      ],
      "execution_count": null,
      "outputs": [
        {
          "output_type": "stream",
          "name": "stdout",
          "text": [
            "[1.54086186e-08]\n"
          ]
        }
      ]
    }
  ]
}