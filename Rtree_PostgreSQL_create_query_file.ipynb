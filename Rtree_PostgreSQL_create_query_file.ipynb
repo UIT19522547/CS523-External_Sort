{
  "nbformat": 4,
  "nbformat_minor": 0,
  "metadata": {
    "colab": {
      "name": "Rtree_PostgreSQL_create_query_file.ipynb",
      "provenance": [],
      "include_colab_link": true
    },
    "kernelspec": {
      "name": "python3",
      "display_name": "Python 3"
    },
    "language_info": {
      "name": "python"
    }
  },
  "cells": [
    {
      "cell_type": "markdown",
      "metadata": {
        "id": "view-in-github",
        "colab_type": "text"
      },
      "source": [
        "<a href=\"https://colab.research.google.com/github/UIT19522547/CS523-n05/blob/main/Rtree_PostgreSQL_create_query_file.ipynb\" target=\"_parent\"><img src=\"https://colab.research.google.com/assets/colab-badge.svg\" alt=\"Open In Colab\"/></a>"
      ]
    },
    {
      "cell_type": "markdown",
      "metadata": {
        "id": "I90QeP5AON7Y"
      },
      "source": [
        "#Tạo file query cho R-tree"
      ]
    },
    {
      "cell_type": "markdown",
      "metadata": {
        "id": "VfZ5fVMXeS0u"
      },
      "source": [
        "##Tạo file để tính thời gian Insert 1000 record."
      ]
    },
    {
      "cell_type": "code",
      "metadata": {
        "colab": {
          "base_uri": "https://localhost:8080/",
          "height": 17
        },
        "id": "Ys7uBjtKeZ4M",
        "outputId": "2dac39ed-318f-4228-ed3c-a5c4429de5f2"
      },
      "source": [
        "from random import random\n",
        "f = open(\"Insert1000.sql\",'w')\n",
        "f.write(\"do $$ \\n\")\n",
        "f.write(\"declare t timestamptz := clock_timestamp(); \\n\")\n",
        "f.write(\"begin \\n\")\n",
        "namefile='Insert1000.sql'\n",
        "f.write(\"Insert into table5 values ('POLYGON((0 0, 1 0, 1 1, 0 1, 0 0))')\\n\")\n",
        "for i in range(1000):\n",
        "  x=[]\n",
        "  y=[]\n",
        "  x.append(int(random()*1000000))\n",
        "  y.append(int(random()*1000000))\n",
        "  dai=int(random()*100)\n",
        "  rong=int(random()*100)\n",
        "  xx=[0,1,1,0]\n",
        "  yy=[0,0,1,1]\n",
        "  for j in range(1,4):\n",
        "    x.append(x[0]+rong*xx[j])\n",
        "    y.append(y[0]+dai*yy[j])\n",
        "  f.write(\",('POLYGON((\"+str(x[0])+\" \"+str(y[0])+\", \"+str(x[1])+\n",
        "          \" \"+str(y[1])+\", \"+str(x[2])+\" \"+str(y[2])+\", \"+str(x[3])+\" \"+str(y[3])+\", \"+str(x[0])+\" \"+str(y[0])+\"))')\\n\");\n",
        "f.write(\";\\n\")\n",
        "f.write(\"raise notice 'excution time: %', clock_timestamp() - t; \\n\")\n",
        "f.write(\"end \\n\")\n",
        "f.write(\"$$ language plpgsql;\")\n",
        "f.close()\n",
        "files.download(namefile)"
      ],
      "execution_count": null,
      "outputs": [
        {
          "output_type": "display_data",
          "data": {
            "application/javascript": [
              "\n",
              "    async function download(id, filename, size) {\n",
              "      if (!google.colab.kernel.accessAllowed) {\n",
              "        return;\n",
              "      }\n",
              "      const div = document.createElement('div');\n",
              "      const label = document.createElement('label');\n",
              "      label.textContent = `Downloading \"${filename}\": `;\n",
              "      div.appendChild(label);\n",
              "      const progress = document.createElement('progress');\n",
              "      progress.max = size;\n",
              "      div.appendChild(progress);\n",
              "      document.body.appendChild(div);\n",
              "\n",
              "      const buffers = [];\n",
              "      let downloaded = 0;\n",
              "\n",
              "      const channel = await google.colab.kernel.comms.open(id);\n",
              "      // Send a message to notify the kernel that we're ready.\n",
              "      channel.send({})\n",
              "\n",
              "      for await (const message of channel.messages) {\n",
              "        // Send a message to notify the kernel that we're ready.\n",
              "        channel.send({})\n",
              "        if (message.buffers) {\n",
              "          for (const buffer of message.buffers) {\n",
              "            buffers.push(buffer);\n",
              "            downloaded += buffer.byteLength;\n",
              "            progress.value = downloaded;\n",
              "          }\n",
              "        }\n",
              "      }\n",
              "      const blob = new Blob(buffers, {type: 'application/binary'});\n",
              "      const a = document.createElement('a');\n",
              "      a.href = window.URL.createObjectURL(blob);\n",
              "      a.download = filename;\n",
              "      div.appendChild(a);\n",
              "      a.click();\n",
              "      div.remove();\n",
              "    }\n",
              "  "
            ],
            "text/plain": [
              "<IPython.core.display.Javascript object>"
            ]
          },
          "metadata": {}
        },
        {
          "output_type": "display_data",
          "data": {
            "application/javascript": [
              "download(\"download_02bc7de6-f5b3-4ae3-9634-8fde89a02fec\", \"Insert1000.sql\", 88938)"
            ],
            "text/plain": [
              "<IPython.core.display.Javascript object>"
            ]
          },
          "metadata": {}
        }
      ]
    },
    {
      "cell_type": "code",
      "metadata": {
        "id": "Pu07wtAPe5uJ"
      },
      "source": [
        ""
      ],
      "execution_count": null,
      "outputs": []
    },
    {
      "cell_type": "markdown",
      "metadata": {
        "id": "e0EV6smOc5Zr"
      },
      "source": [
        "##Tạo file để tính thời gian ST_Contains 100 lần. Tìm Polygon chứa một Polygon random"
      ]
    },
    {
      "cell_type": "code",
      "metadata": {
        "colab": {
          "base_uri": "https://localhost:8080/",
          "height": 17
        },
        "id": "Hnz2Qb0jT4a4",
        "outputId": "607a8012-7464-434d-b2b4-6e54039e464b"
      },
      "source": [
        "from random import random\n",
        "f = open(\"Contains10.sql\",'w')\n",
        "f.write(\"do $$ \\n\")\n",
        "f.write(\"declare t timestamptz := clock_timestamp(); \\n\")\n",
        "f.write(\"begin \\n\")\n",
        "namefile='Contains10.sql'\n",
        "for i in range(10):\n",
        "  x=[]\n",
        "  y=[]\n",
        "  x.append(int(random()*1000000))\n",
        "  y.append(int(random()*1000000))\n",
        "  dai=int(random()*100)\n",
        "  rong=int(random()*100)\n",
        "  xx=[0,1,1,0]\n",
        "  yy=[0,0,1,1]\n",
        "  for j in range(1,4):\n",
        "    x.append(x[0]+rong*xx[j])\n",
        "    y.append(y[0]+dai*yy[j])\n",
        "  f.write(\"perform * from table5 where ST_Contains(rectangle,ST_GeomFromText('SRID=0;POLYGON((\"+str(x[0])+\" \"+str(y[0])+\", \"+str(x[1])+\n",
        "          \" \"+str(y[1])+\", \"+str(x[2])+\" \"+str(y[2])+\", \"+str(x[3])+\" \"+str(y[3])+\", \"+str(x[0])+\" \"+str(y[0])+\"))'));\\n\");\n",
        "\n",
        "f.write(\"raise notice 'excution time: %', clock_timestamp() - t; \\n\")\n",
        "f.write(\"end \\n\")\n",
        "f.write(\"$$ language plpgsql;\")\n",
        "f.close()\n",
        "files.download(namefile)"
      ],
      "execution_count": null,
      "outputs": [
        {
          "output_type": "display_data",
          "data": {
            "application/javascript": [
              "\n",
              "    async function download(id, filename, size) {\n",
              "      if (!google.colab.kernel.accessAllowed) {\n",
              "        return;\n",
              "      }\n",
              "      const div = document.createElement('div');\n",
              "      const label = document.createElement('label');\n",
              "      label.textContent = `Downloading \"${filename}\": `;\n",
              "      div.appendChild(label);\n",
              "      const progress = document.createElement('progress');\n",
              "      progress.max = size;\n",
              "      div.appendChild(progress);\n",
              "      document.body.appendChild(div);\n",
              "\n",
              "      const buffers = [];\n",
              "      let downloaded = 0;\n",
              "\n",
              "      const channel = await google.colab.kernel.comms.open(id);\n",
              "      // Send a message to notify the kernel that we're ready.\n",
              "      channel.send({})\n",
              "\n",
              "      for await (const message of channel.messages) {\n",
              "        // Send a message to notify the kernel that we're ready.\n",
              "        channel.send({})\n",
              "        if (message.buffers) {\n",
              "          for (const buffer of message.buffers) {\n",
              "            buffers.push(buffer);\n",
              "            downloaded += buffer.byteLength;\n",
              "            progress.value = downloaded;\n",
              "          }\n",
              "        }\n",
              "      }\n",
              "      const blob = new Blob(buffers, {type: 'application/binary'});\n",
              "      const a = document.createElement('a');\n",
              "      a.href = window.URL.createObjectURL(blob);\n",
              "      a.download = filename;\n",
              "      div.appendChild(a);\n",
              "      a.click();\n",
              "      div.remove();\n",
              "    }\n",
              "  "
            ],
            "text/plain": [
              "<IPython.core.display.Javascript object>"
            ]
          },
          "metadata": {}
        },
        {
          "output_type": "display_data",
          "data": {
            "application/javascript": [
              "download(\"download_f419acab-fd8d-48c9-9301-668fb9fd66d2\", \"Contains10.sql\", 1761)"
            ],
            "text/plain": [
              "<IPython.core.display.Javascript object>"
            ]
          },
          "metadata": {}
        }
      ]
    },
    {
      "cell_type": "markdown",
      "metadata": {
        "id": "pKYD-b6ndCDF"
      },
      "source": [
        "##Tạo file để tính thời gian Search/ST_Equals 100 lần. Tìm Polygon bằng với một Polygon random"
      ]
    },
    {
      "cell_type": "code",
      "metadata": {
        "colab": {
          "base_uri": "https://localhost:8080/",
          "height": 17
        },
        "id": "-QmTO8NiZs4f",
        "outputId": "429cdee4-9fb7-4c53-cbc9-d017d78ae293"
      },
      "source": [
        "from random import random\n",
        "f = open(\"Search100.sql\",'w')\n",
        "f.write(\"do $$ \\n\")\n",
        "f.write(\"declare t timestamptz := clock_timestamp(); \\n\")\n",
        "f.write(\"begin \\n\")\n",
        "namefile='Search100.sql'\n",
        "for i in range(100):\n",
        "  x=[]\n",
        "  y=[]\n",
        "  x.append(int(random()*1000000))\n",
        "  y.append(int(random()*1000000))\n",
        "  dai=int(random()*100)\n",
        "  rong=int(random()*100)\n",
        "  xx=[0,1,1,0]\n",
        "  yy=[0,0,1,1]\n",
        "  for j in range(1,4):\n",
        "    x.append(x[0]+rong*xx[j])\n",
        "    y.append(y[0]+dai*yy[j])\n",
        "  f.write(\"perform * from table5 where ST_Equals(rectangle,ST_GeomFromText('SRID=0;POLYGON((\"+str(x[0])+\" \"+str(y[0])+\", \"+str(x[1])+\n",
        "          \" \"+str(y[1])+\", \"+str(x[2])+\" \"+str(y[2])+\", \"+str(x[3])+\" \"+str(y[3])+\", \"+str(x[0])+\" \"+str(y[0])+\"))'));\\n\");\n",
        "\n",
        "f.write(\"raise notice 'excution time: %', clock_timestamp() - t; \\n\")\n",
        "f.write(\"end \\n\")\n",
        "f.write(\"$$ language plpgsql;\")\n",
        "f.close()\n",
        "files.download(namefile)"
      ],
      "execution_count": null,
      "outputs": [
        {
          "output_type": "display_data",
          "data": {
            "application/javascript": [
              "\n",
              "    async function download(id, filename, size) {\n",
              "      if (!google.colab.kernel.accessAllowed) {\n",
              "        return;\n",
              "      }\n",
              "      const div = document.createElement('div');\n",
              "      const label = document.createElement('label');\n",
              "      label.textContent = `Downloading \"${filename}\": `;\n",
              "      div.appendChild(label);\n",
              "      const progress = document.createElement('progress');\n",
              "      progress.max = size;\n",
              "      div.appendChild(progress);\n",
              "      document.body.appendChild(div);\n",
              "\n",
              "      const buffers = [];\n",
              "      let downloaded = 0;\n",
              "\n",
              "      const channel = await google.colab.kernel.comms.open(id);\n",
              "      // Send a message to notify the kernel that we're ready.\n",
              "      channel.send({})\n",
              "\n",
              "      for await (const message of channel.messages) {\n",
              "        // Send a message to notify the kernel that we're ready.\n",
              "        channel.send({})\n",
              "        if (message.buffers) {\n",
              "          for (const buffer of message.buffers) {\n",
              "            buffers.push(buffer);\n",
              "            downloaded += buffer.byteLength;\n",
              "            progress.value = downloaded;\n",
              "          }\n",
              "        }\n",
              "      }\n",
              "      const blob = new Blob(buffers, {type: 'application/binary'});\n",
              "      const a = document.createElement('a');\n",
              "      a.href = window.URL.createObjectURL(blob);\n",
              "      a.download = filename;\n",
              "      div.appendChild(a);\n",
              "      a.click();\n",
              "      div.remove();\n",
              "    }\n",
              "  "
            ],
            "text/plain": [
              "<IPython.core.display.Javascript object>"
            ]
          },
          "metadata": {}
        },
        {
          "output_type": "display_data",
          "data": {
            "application/javascript": [
              "download(\"download_d1aa20cc-be1e-4b36-807f-e9eb64a5db5e\", \"Search100.sql\", 16116)"
            ],
            "text/plain": [
              "<IPython.core.display.Javascript object>"
            ]
          },
          "metadata": {}
        }
      ]
    },
    {
      "cell_type": "markdown",
      "metadata": {
        "id": "UMJFX2NFIhnj"
      },
      "source": [
        "##Tạo file để tính thời gian ST_Overlap 100 lần. Tìm Polygon Overlaps với một Polygon random"
      ]
    },
    {
      "cell_type": "code",
      "metadata": {
        "colab": {
          "base_uri": "https://localhost:8080/",
          "height": 17
        },
        "id": "78uUZynfs3dD",
        "outputId": "31a81e79-32fb-41d5-b478-3724c50933ab"
      },
      "source": [
        "from random import random\n",
        "f = open(\"Overlaps10.sql\",'w')\n",
        "f.write(\"do $$ \\n\")\n",
        "f.write(\"declare t timestamptz := clock_timestamp(); \\n\")\n",
        "f.write(\"begin \\n\")\n",
        "namefile='Overlaps10.sql'\n",
        "for i in range(10):\n",
        "  x=[]\n",
        "  y=[]\n",
        "  x.append(int(random()*1000000))\n",
        "  y.append(int(random()*1000000))\n",
        "  dai=int(random()*100)\n",
        "  rong=int(random()*100)\n",
        "  xx=[0,1,1,0]\n",
        "  yy=[0,0,1,1]\n",
        "  for j in range(1,4):\n",
        "    x.append(x[0]+rong*xx[j])\n",
        "    y.append(y[0]+dai*yy[j])\n",
        "  f.write(\"perform * from table5 where ST_Overlaps(rectangle,GeomFromEWKT('SRID=0;POLYGON((\"+str(x[0])+\" \"+str(y[0])+\", \"+str(x[1])+\n",
        "          \" \"+str(y[1])+\", \"+str(x[2])+\" \"+str(y[2])+\", \"+str(x[3])+\" \"+str(y[3])+\", \"+str(x[0])+\" \"+str(y[0])+\"))'));\");\n",
        "\n",
        "f.write(\"raise notice 'excution time: %', clock_timestamp() - t; \\n\")\n",
        "f.write(\"end \\n\")\n",
        "f.write(\"$$ language plpgsql;\")\n",
        "f.close()\n",
        "files.download(namefile)"
      ],
      "execution_count": null,
      "outputs": [
        {
          "output_type": "display_data",
          "data": {
            "application/javascript": [
              "\n",
              "    async function download(id, filename, size) {\n",
              "      if (!google.colab.kernel.accessAllowed) {\n",
              "        return;\n",
              "      }\n",
              "      const div = document.createElement('div');\n",
              "      const label = document.createElement('label');\n",
              "      label.textContent = `Downloading \"${filename}\": `;\n",
              "      div.appendChild(label);\n",
              "      const progress = document.createElement('progress');\n",
              "      progress.max = size;\n",
              "      div.appendChild(progress);\n",
              "      document.body.appendChild(div);\n",
              "\n",
              "      const buffers = [];\n",
              "      let downloaded = 0;\n",
              "\n",
              "      const channel = await google.colab.kernel.comms.open(id);\n",
              "      // Send a message to notify the kernel that we're ready.\n",
              "      channel.send({})\n",
              "\n",
              "      for await (const message of channel.messages) {\n",
              "        // Send a message to notify the kernel that we're ready.\n",
              "        channel.send({})\n",
              "        if (message.buffers) {\n",
              "          for (const buffer of message.buffers) {\n",
              "            buffers.push(buffer);\n",
              "            downloaded += buffer.byteLength;\n",
              "            progress.value = downloaded;\n",
              "          }\n",
              "        }\n",
              "      }\n",
              "      const blob = new Blob(buffers, {type: 'application/binary'});\n",
              "      const a = document.createElement('a');\n",
              "      a.href = window.URL.createObjectURL(blob);\n",
              "      a.download = filename;\n",
              "      div.appendChild(a);\n",
              "      a.click();\n",
              "      div.remove();\n",
              "    }\n",
              "  "
            ],
            "text/plain": [
              "<IPython.core.display.Javascript object>"
            ]
          },
          "metadata": {}
        },
        {
          "output_type": "display_data",
          "data": {
            "application/javascript": [
              "download(\"download_c79613f0-5a2c-4d9d-8b25-350cfdd100b2\", \"Overlaps10.sql\", 1716)"
            ],
            "text/plain": [
              "<IPython.core.display.Javascript object>"
            ]
          },
          "metadata": {}
        }
      ]
    }
  ]
}